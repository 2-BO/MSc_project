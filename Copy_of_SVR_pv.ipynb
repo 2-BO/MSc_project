{
  "cells": [
    {
      "cell_type": "markdown",
      "metadata": {
        "id": "view-in-github",
        "colab_type": "text"
      },
      "source": [
        "<a href=\"https://colab.research.google.com/github/2-BO/MSc_project/blob/main/Copy_of_SVR_pv.ipynb\" target=\"_parent\"><img src=\"https://colab.research.google.com/assets/colab-badge.svg\" alt=\"Open In Colab\"/></a>"
      ]
    },
    {
      "cell_type": "code",
      "execution_count": 1,
      "metadata": {
        "id": "526FuFrla67f"
      },
      "outputs": [],
      "source": [
        "import numpy as np\n",
        "import matplotlib.pyplot as plt\n",
        "import pandas as pd\n",
        "from google.colab import files"
      ]
    },
    {
      "cell_type": "code",
      "execution_count": 3,
      "metadata": {
        "colab": {
          "base_uri": "https://localhost:8080/",
          "height": 71
        },
        "id": "oEb7Ax8aa-zh",
        "outputId": "beec0953-9f1d-484d-de71-3016f669f0b4"
      },
      "outputs": [
        {
          "output_type": "display_data",
          "data": {
            "text/plain": [
              "<IPython.core.display.HTML object>"
            ],
            "text/html": [
              "\n",
              "     <input type=\"file\" id=\"files-b3229d98-a9f4-4f59-a882-c7de74d908ea\" name=\"files[]\" multiple disabled\n",
              "        style=\"border:none\" />\n",
              "     <output id=\"result-b3229d98-a9f4-4f59-a882-c7de74d908ea\">\n",
              "      Upload widget is only available when the cell has been executed in the\n",
              "      current browser session. Please rerun this cell to enable.\n",
              "      </output>\n",
              "      <script>// Copyright 2017 Google LLC\n",
              "//\n",
              "// Licensed under the Apache License, Version 2.0 (the \"License\");\n",
              "// you may not use this file except in compliance with the License.\n",
              "// You may obtain a copy of the License at\n",
              "//\n",
              "//      http://www.apache.org/licenses/LICENSE-2.0\n",
              "//\n",
              "// Unless required by applicable law or agreed to in writing, software\n",
              "// distributed under the License is distributed on an \"AS IS\" BASIS,\n",
              "// WITHOUT WARRANTIES OR CONDITIONS OF ANY KIND, either express or implied.\n",
              "// See the License for the specific language governing permissions and\n",
              "// limitations under the License.\n",
              "\n",
              "/**\n",
              " * @fileoverview Helpers for google.colab Python module.\n",
              " */\n",
              "(function(scope) {\n",
              "function span(text, styleAttributes = {}) {\n",
              "  const element = document.createElement('span');\n",
              "  element.textContent = text;\n",
              "  for (const key of Object.keys(styleAttributes)) {\n",
              "    element.style[key] = styleAttributes[key];\n",
              "  }\n",
              "  return element;\n",
              "}\n",
              "\n",
              "// Max number of bytes which will be uploaded at a time.\n",
              "const MAX_PAYLOAD_SIZE = 100 * 1024;\n",
              "\n",
              "function _uploadFiles(inputId, outputId) {\n",
              "  const steps = uploadFilesStep(inputId, outputId);\n",
              "  const outputElement = document.getElementById(outputId);\n",
              "  // Cache steps on the outputElement to make it available for the next call\n",
              "  // to uploadFilesContinue from Python.\n",
              "  outputElement.steps = steps;\n",
              "\n",
              "  return _uploadFilesContinue(outputId);\n",
              "}\n",
              "\n",
              "// This is roughly an async generator (not supported in the browser yet),\n",
              "// where there are multiple asynchronous steps and the Python side is going\n",
              "// to poll for completion of each step.\n",
              "// This uses a Promise to block the python side on completion of each step,\n",
              "// then passes the result of the previous step as the input to the next step.\n",
              "function _uploadFilesContinue(outputId) {\n",
              "  const outputElement = document.getElementById(outputId);\n",
              "  const steps = outputElement.steps;\n",
              "\n",
              "  const next = steps.next(outputElement.lastPromiseValue);\n",
              "  return Promise.resolve(next.value.promise).then((value) => {\n",
              "    // Cache the last promise value to make it available to the next\n",
              "    // step of the generator.\n",
              "    outputElement.lastPromiseValue = value;\n",
              "    return next.value.response;\n",
              "  });\n",
              "}\n",
              "\n",
              "/**\n",
              " * Generator function which is called between each async step of the upload\n",
              " * process.\n",
              " * @param {string} inputId Element ID of the input file picker element.\n",
              " * @param {string} outputId Element ID of the output display.\n",
              " * @return {!Iterable<!Object>} Iterable of next steps.\n",
              " */\n",
              "function* uploadFilesStep(inputId, outputId) {\n",
              "  const inputElement = document.getElementById(inputId);\n",
              "  inputElement.disabled = false;\n",
              "\n",
              "  const outputElement = document.getElementById(outputId);\n",
              "  outputElement.innerHTML = '';\n",
              "\n",
              "  const pickedPromise = new Promise((resolve) => {\n",
              "    inputElement.addEventListener('change', (e) => {\n",
              "      resolve(e.target.files);\n",
              "    });\n",
              "  });\n",
              "\n",
              "  const cancel = document.createElement('button');\n",
              "  inputElement.parentElement.appendChild(cancel);\n",
              "  cancel.textContent = 'Cancel upload';\n",
              "  const cancelPromise = new Promise((resolve) => {\n",
              "    cancel.onclick = () => {\n",
              "      resolve(null);\n",
              "    };\n",
              "  });\n",
              "\n",
              "  // Wait for the user to pick the files.\n",
              "  const files = yield {\n",
              "    promise: Promise.race([pickedPromise, cancelPromise]),\n",
              "    response: {\n",
              "      action: 'starting',\n",
              "    }\n",
              "  };\n",
              "\n",
              "  cancel.remove();\n",
              "\n",
              "  // Disable the input element since further picks are not allowed.\n",
              "  inputElement.disabled = true;\n",
              "\n",
              "  if (!files) {\n",
              "    return {\n",
              "      response: {\n",
              "        action: 'complete',\n",
              "      }\n",
              "    };\n",
              "  }\n",
              "\n",
              "  for (const file of files) {\n",
              "    const li = document.createElement('li');\n",
              "    li.append(span(file.name, {fontWeight: 'bold'}));\n",
              "    li.append(span(\n",
              "        `(${file.type || 'n/a'}) - ${file.size} bytes, ` +\n",
              "        `last modified: ${\n",
              "            file.lastModifiedDate ? file.lastModifiedDate.toLocaleDateString() :\n",
              "                                    'n/a'} - `));\n",
              "    const percent = span('0% done');\n",
              "    li.appendChild(percent);\n",
              "\n",
              "    outputElement.appendChild(li);\n",
              "\n",
              "    const fileDataPromise = new Promise((resolve) => {\n",
              "      const reader = new FileReader();\n",
              "      reader.onload = (e) => {\n",
              "        resolve(e.target.result);\n",
              "      };\n",
              "      reader.readAsArrayBuffer(file);\n",
              "    });\n",
              "    // Wait for the data to be ready.\n",
              "    let fileData = yield {\n",
              "      promise: fileDataPromise,\n",
              "      response: {\n",
              "        action: 'continue',\n",
              "      }\n",
              "    };\n",
              "\n",
              "    // Use a chunked sending to avoid message size limits. See b/62115660.\n",
              "    let position = 0;\n",
              "    do {\n",
              "      const length = Math.min(fileData.byteLength - position, MAX_PAYLOAD_SIZE);\n",
              "      const chunk = new Uint8Array(fileData, position, length);\n",
              "      position += length;\n",
              "\n",
              "      const base64 = btoa(String.fromCharCode.apply(null, chunk));\n",
              "      yield {\n",
              "        response: {\n",
              "          action: 'append',\n",
              "          file: file.name,\n",
              "          data: base64,\n",
              "        },\n",
              "      };\n",
              "\n",
              "      let percentDone = fileData.byteLength === 0 ?\n",
              "          100 :\n",
              "          Math.round((position / fileData.byteLength) * 100);\n",
              "      percent.textContent = `${percentDone}% done`;\n",
              "\n",
              "    } while (position < fileData.byteLength);\n",
              "  }\n",
              "\n",
              "  // All done.\n",
              "  yield {\n",
              "    response: {\n",
              "      action: 'complete',\n",
              "    }\n",
              "  };\n",
              "}\n",
              "\n",
              "scope.google = scope.google || {};\n",
              "scope.google.colab = scope.google.colab || {};\n",
              "scope.google.colab._files = {\n",
              "  _uploadFiles,\n",
              "  _uploadFilesContinue,\n",
              "};\n",
              "})(self);\n",
              "</script> "
            ]
          },
          "metadata": {}
        },
        {
          "output_type": "stream",
          "name": "stdout",
          "text": [
            "Saving ML5.csv to ML5.csv\n"
          ]
        }
      ],
      "source": [
        "Uploaded=files.upload()"
      ]
    },
    {
      "cell_type": "code",
      "execution_count": 4,
      "metadata": {
        "id": "W-6s1zFnbAuH"
      },
      "outputs": [],
      "source": [
        "df = pd.read_csv('MLds.csv')\n",
        "df5 = pd.read_csv('ML5.csv')"
      ]
    },
    {
      "cell_type": "code",
      "execution_count": 5,
      "metadata": {
        "collapsed": true,
        "id": "SFGgpXeVbDTi"
      },
      "outputs": [],
      "source": [
        "from sklearn.impute import SimpleImputer\n",
        "imputer = SimpleImputer(missing_values=np.nan, strategy='mean')\n",
        "df['Indirect'] = imputer.fit_transform(df[['Indirect']])"
      ]
    },
    {
      "cell_type": "code",
      "execution_count": 6,
      "metadata": {
        "id": "TFRHd7EaskhU"
      },
      "outputs": [],
      "source": [
        "df['y1'] = np.abs(np.minimum(df['Direct'], df['Indirect']) - 1.4)\n",
        "df['y2'] = np.abs(df['Direct'] - df['Indirect'])\n",
        "epsilon = 1e-10 # To avoid division by zero if necessary\n",
        "df['y'] = np.log(df['Absorption']) / (df['y1'] + df['y2'] + epsilon)"
      ]
    },
    {
      "cell_type": "code",
      "execution_count": 7,
      "metadata": {
        "collapsed": true,
        "id": "ruI2wmhDiXL3"
      },
      "outputs": [],
      "source": [
        "X = df.iloc[:, 0:9].values"
      ]
    },
    {
      "cell_type": "code",
      "execution_count": 8,
      "metadata": {
        "collapsed": true,
        "id": "t6twlXAXuYZZ"
      },
      "outputs": [],
      "source": [
        "y = df['y'].values"
      ]
    },
    {
      "cell_type": "code",
      "source": [
        "X5= df5.iloc[:, 0:9].values"
      ],
      "metadata": {
        "id": "ed8Wp4y1XeG3",
        "collapsed": true
      },
      "execution_count": 9,
      "outputs": []
    },
    {
      "cell_type": "code",
      "execution_count": 10,
      "metadata": {
        "id": "PsbzTJP0-NuU"
      },
      "outputs": [],
      "source": [
        "from sklearn.preprocessing import MinMaxScaler\n",
        "\n",
        "# Create a MinMaxScaler object with the desired feature range\n",
        "scaler = MinMaxScaler()\n",
        "scaler_y = MinMaxScaler()\n",
        "\n",
        "# Fit and transform the X data\n",
        "X = scaler.fit_transform(X)\n",
        "\n",
        "y = scaler_y.fit_transform(y.reshape(-1, 1)).ravel()\n",
        "\n",
        "# Fit and transform the X5 data\n",
        "X5 = scaler.fit_transform(X5)"
      ]
    },
    {
      "cell_type": "code",
      "source": [
        "X5"
      ],
      "metadata": {
        "colab": {
          "base_uri": "https://localhost:8080/"
        },
        "id": "I6fsU5pcUUe6",
        "outputId": "ae4cffa3-e413-4f8e-dcaf-a3cb49649506"
      },
      "execution_count": null,
      "outputs": [
        {
          "output_type": "execute_result",
          "data": {
            "text/plain": [
              "array([[1. , 0. , 0.5, 0. , 1. , 1. , 0. , 0. , 0. ],\n",
              "       [1. , 0. , 1. , 0. , 0. , 0. , 0. , 0.5, 1. ],\n",
              "       [1. , 0. , 1. , 0. , 0. , 0. , 0. , 1. , 0. ],\n",
              "       [1. , 0. , 0. , 1. , 0. , 1. , 0. , 0. , 0. ],\n",
              "       [0. , 1. , 1. , 0. , 0. , 1. , 0. , 0. , 0. ]])"
            ]
          },
          "metadata": {},
          "execution_count": 58
        }
      ]
    },
    {
      "cell_type": "code",
      "execution_count": 11,
      "metadata": {
        "id": "ILykvtwkxgWq"
      },
      "outputs": [],
      "source": [
        "from sklearn.model_selection import train_test_split\n",
        "X_train, X_test, y_train, y_test = train_test_split(X, y, test_size = 0.2, random_state = 0)"
      ]
    },
    {
      "cell_type": "code",
      "source": [
        "df['y'] = np.log(df['Absorption']) / (df['y1'] + df['y2'] + epsilon)\n",
        "df['y'].values"
      ],
      "metadata": {
        "colab": {
          "base_uri": "https://localhost:8080/"
        },
        "id": "ZaX_0FpxPw30",
        "outputId": "21d5fd84-09a9-45ba-a036-6e88ab0c6a7e"
      },
      "execution_count": 12,
      "outputs": [
        {
          "output_type": "execute_result",
          "data": {
            "text/plain": [
              "array([ 49.6787609 , 154.6492303 , 146.33070283,  55.65631923,\n",
              "        65.71034164,  85.17740382,  82.91416791,  80.67940328,\n",
              "        81.95125315,  90.91264561, 109.59123627, 161.61087172,\n",
              "       159.73589702, 170.57498279,  56.44382957,  65.94147979,\n",
              "        79.76645261,  81.294962  ,  83.46294733,  89.13397394,\n",
              "        98.31465602, 116.74164245, 148.86055656,  19.10733052,\n",
              "        16.2137583 ,  14.14341533, 107.86520478, 350.19406231,\n",
              "        79.2050758 ,  82.00331315,  50.65099096,  36.028608  ,\n",
              "        28.76613617,  23.8491154 ,  61.24167436,  67.01488677,\n",
              "       158.31943746, 137.95185185, 167.36152845,  45.42562336,\n",
              "        84.89845718, 106.3822852 , 192.16115201, 226.56749494,\n",
              "        51.89825356,  55.59345183,  61.85131374,  61.5398479 ,\n",
              "        56.80280812,  69.2757332 ,  67.33796048, 112.7325949 ,\n",
              "       171.47431512,  54.96088285,  63.0210318 ,  80.35498316,\n",
              "       103.67806985, 181.26785591, 257.09595034,  50.66444854,\n",
              "        64.65079582,  61.14307154, 110.35747115,  85.13020507,\n",
              "        74.62060265,  20.04555684])"
            ]
          },
          "metadata": {},
          "execution_count": 12
        }
      ]
    },
    {
      "cell_type": "code",
      "source": [
        "y"
      ],
      "metadata": {
        "colab": {
          "base_uri": "https://localhost:8080/"
        },
        "id": "hJhIfRMOPofY",
        "outputId": "69bc373f-5abe-40e2-d336-db5f867bff41"
      },
      "execution_count": null,
      "outputs": [
        {
          "output_type": "execute_result",
          "data": {
            "text/plain": [
              "array([0.10574402, 0.41810904, 0.39335525, 0.40904627, 0.12353169,\n",
              "       0.15344986, 0.21137882, 0.20464401, 0.19799393, 0.20177863,\n",
              "       0.22844542, 0.28402808, 0.43882509, 0.41699115, 0.43324565,\n",
              "       0.46549997, 0.12587512, 0.15413767, 0.19527722, 0.19982567,\n",
              "       0.20627704, 0.22315255, 0.25047189, 0.30530585, 0.40088345,\n",
              "       0.01477133, 0.00616081, 0.        , 0.27889186, 1.        ,\n",
              "       0.19360671, 0.20193354, 0.1650248 , 0.10863712, 0.06512469,\n",
              "       0.04351344, 0.02888166, 0.14015226, 0.15733185, 0.42903063,\n",
              "       0.36842196, 0.45593756, 0.09308778, 0.21054874, 0.27447907,\n",
              "       0.52973484, 0.63211924, 0.11234866, 0.12334461, 0.14196639,\n",
              "       0.14103955, 0.11621587, 0.12694334, 0.16405955, 0.15829324,\n",
              "       0.29337596, 0.46817616, 0.12146225, 0.14544717, 0.19702854,\n",
              "       0.26643203, 0.4973192 , 0.68034845, 0.10867717, 0.11871387,\n",
              "       0.15029693, 0.13985885, 0.2863082 , 0.21123837, 0.1799645 ,\n",
              "       0.01756325])"
            ]
          },
          "metadata": {},
          "execution_count": 43
        }
      ]
    },
    {
      "cell_type": "markdown",
      "metadata": {
        "id": "Dd-1jF_hCJAM"
      },
      "source": [
        "Linear Regression"
      ]
    },
    {
      "cell_type": "code",
      "execution_count": 13,
      "metadata": {
        "colab": {
          "base_uri": "https://localhost:8080/"
        },
        "id": "p2cPo2N5CIxw",
        "outputId": "924f4aa9-02f3-4e22-d424-fad61f962396"
      },
      "outputs": [
        {
          "output_type": "stream",
          "name": "stdout",
          "text": [
            "Root Mean Squared Error (RMSE): 0.08698418029843351\n"
          ]
        }
      ],
      "source": [
        "from sklearn.metrics import mean_squared_error\n",
        "from sklearn.linear_model import LinearRegression\n",
        "\n",
        "linear_reg = LinearRegression().fit(X_train, y_train)\n",
        "linear_reg.predict(X_test)\n",
        "\n",
        "\n",
        "from sklearn.metrics import mean_squared_error\n",
        "y_pred_linear_reg = linear_reg.predict(X_test)\n",
        "rmse_linear_reg = np.sqrt(mean_squared_error(y_test, y_pred_linear_reg))\n",
        "print(\"Root Mean Squared Error (RMSE):\", rmse_linear_reg)"
      ]
    },
    {
      "cell_type": "markdown",
      "metadata": {
        "id": "kJqcxnTIC6bc"
      },
      "source": [
        "SVR"
      ]
    },
    {
      "cell_type": "code",
      "source": [
        "from sklearn.metrics import mean_squared_error\n",
        "from sklearn.svm import SVR\n",
        "svr_model = SVR()\n",
        "svr_model.fit(X_train, y_train) #no changes\n",
        "y_pred_svr = svr_model.predict(X_test) #no changes\n",
        "\n",
        "y_pred_svr = svr_model.predict(X_test)\n",
        "rmse_svr = np.sqrt(mean_squared_error(y_test, y_pred_svr))\n",
        "print(y_pred_svr)\n",
        "print(\"Root Mean Squared Error (RMSE):\", rmse_svr)"
      ],
      "metadata": {
        "colab": {
          "base_uri": "https://localhost:8080/"
        },
        "id": "NWgl5Li3rKQK",
        "outputId": "1fd01352-0ffc-49d4-fa36-92b30712cbf5"
      },
      "execution_count": 14,
      "outputs": [
        {
          "output_type": "stream",
          "name": "stdout",
          "text": [
            "[0.21336193 0.20947096 0.20062688 0.25132885 0.16057824 0.15930214\n",
            " 0.31238189 0.2230225  0.18106118 0.23179933 0.21608014 0.23963926\n",
            " 0.12822061 0.19676072]\n",
            "Root Mean Squared Error (RMSE): 0.06354114268960254\n"
          ]
        }
      ]
    },
    {
      "cell_type": "code",
      "source": [
        "from sklearn.metrics import mean_squared_error\n",
        "from sklearn.svm import SVR\n",
        "svr_model_hp = SVR(kernel='rbf',gamma=0.35,epsilon=0.05,C=23)\n",
        "svr_model_hp.fit(X_train, y_train) #no changes\n",
        "y_pred_svr = svr_model_hp.predict(X_test) #no changes\n",
        "\n",
        "y_pred_svr = svr_model_hp.predict(X_test)\n",
        "rmse_svr = np.sqrt(mean_squared_error(y_test, y_pred_svr))\n",
        "print(y_pred_svr)\n",
        "print(\"Root Mean Squared Error (RMSE):\", rmse_svr)"
      ],
      "metadata": {
        "colab": {
          "base_uri": "https://localhost:8080/"
        },
        "id": "Tim1B-zgSapT",
        "outputId": "2a2e543e-71b9-4adf-92a5-73e22d81d81c"
      },
      "execution_count": 41,
      "outputs": [
        {
          "output_type": "stream",
          "name": "stdout",
          "text": [
            "[0.14129179 0.23320177 0.21830237 0.21114126 0.17792729 0.11934485\n",
            " 0.31082113 0.14343988 0.1484683  0.16024946 0.17605431 0.21821968\n",
            " 0.03711233 0.10114497]\n",
            "Root Mean Squared Error (RMSE): 0.02386120755274304\n"
          ]
        }
      ]
    },
    {
      "cell_type": "code",
      "source": [
        "# Predict scaled values\n",
        "y5_pred = np.array(svr_model_hp.predict(X5))\n",
        "print(type(y5_pred))\n",
        "\n",
        "# Inverse transform to original scale\n",
        "y5_pred_original = scaler_y.inverse_transform(y5_pred.reshape(-1, 1)).ravel()\n",
        "\n",
        "print(\"Predicted values (scaled):\", y5_pred)\n",
        "print(\"Predicted values (original scale):\", y5_pred_original)\n"
      ],
      "metadata": {
        "colab": {
          "base_uri": "https://localhost:8080/"
        },
        "id": "mD_xeiA6Bx_T",
        "outputId": "7613bd95-3e48-400b-f41d-8f6cc57c2110"
      },
      "execution_count": 42,
      "outputs": [
        {
          "output_type": "stream",
          "name": "stdout",
          "text": [
            "<class 'numpy.ndarray'>\n",
            "Predicted values (scaled): [0.07206248 0.38219228 0.43838369 0.51548111 0.44303165]\n",
            "Predicted values (original scale): [ 38.36005792 142.57937719 161.46253963 187.37117489 163.02448713]\n"
          ]
        }
      ]
    },
    {
      "cell_type": "code",
      "source": [
        "y5_pred.shape"
      ],
      "metadata": {
        "colab": {
          "base_uri": "https://localhost:8080/"
        },
        "id": "OmgP_tDaGlpf",
        "outputId": "150a622a-3ae5-4a23-a8db-294bf011f575"
      },
      "execution_count": 43,
      "outputs": [
        {
          "output_type": "execute_result",
          "data": {
            "text/plain": [
              "(5,)"
            ]
          },
          "metadata": {},
          "execution_count": 43
        }
      ]
    },
    {
      "cell_type": "code",
      "source": [
        "df5['y1'] = np.abs(np.minimum(df5['Direct'], df5['Indirect']) - 1.4)\n",
        "df5['y2'] = np.abs(df5['Direct'] - df5['Indirect'])\n",
        "y5 = np.log(df5['Absorption']) / (df5['y1'] + df5['y2'] + epsilon)"
      ],
      "metadata": {
        "id": "cLADU1ytsPE3"
      },
      "execution_count": 44,
      "outputs": []
    },
    {
      "cell_type": "code",
      "source": [
        "print(y5_pred_original)\n",
        "print(y5)"
      ],
      "metadata": {
        "id": "hgm9KEYpUNCP",
        "colab": {
          "base_uri": "https://localhost:8080/"
        },
        "outputId": "cb8f013f-b524-40fd-bdfc-607647d91c81"
      },
      "execution_count": 45,
      "outputs": [
        {
          "output_type": "stream",
          "name": "stdout",
          "text": [
            "[ 38.36005792 142.57937719 161.46253963 187.37117489 163.02448713]\n",
            "0     65.917560\n",
            "1     51.119793\n",
            "2     51.892950\n",
            "3    137.685008\n",
            "4    135.974433\n",
            "dtype: float64\n"
          ]
        }
      ]
    },
    {
      "cell_type": "code",
      "source": [
        "from sklearn.svm import SVR\n",
        "from sklearn.metrics import mean_squared_error\n",
        "from itertools import product\n",
        "import time\n",
        "import heapq\n",
        "\n",
        "svm_kernel=['rbf','linear','poly','sigmoid']\n",
        "svm_gamma=np.arange(0.05, 1.0, 0.05).tolist()\n",
        "svm_epsilon=np.arange(0.05, 1.0, 0.05).tolist()\n",
        "svm_c=np.arange(1, 51, 1).tolist()\n",
        "svm_degree=np.arange(1, 4, 1).tolist()\n",
        "\n",
        "param_combinations = list(product(svm_kernel, svm_gamma, svm_epsilon, svm_c))\n",
        "\n",
        "# Function to train model and calculate RMSE\n",
        "def train_and_evaluate(X_train, y_train, X_test, y_test, kernel, gamma, epsilon, C, degree=None):\n",
        "    if degree == None:\n",
        "      svr_model = SVR(kernel=kernel, gamma=gamma, epsilon=epsilon, C=C)\n",
        "    else:\n",
        "      svr_model = SVR(kernel=kernel, gamma=gamma, epsilon=epsilon, C=C, degree=degree)\n",
        "    svr_model.fit(X_train, y_train)\n",
        "    y_pred_svr = svr_model.predict(X_test)\n",
        "    rmse_svr = np.sqrt(mean_squared_error(y_test, y_pred_svr))\n",
        "    return rmse_svr\n",
        "\n",
        "# List to store all results\n",
        "all_results = []\n",
        "\n",
        "start_time = time.time()\n",
        "\n",
        "# Loop over all hyperparameter combinations\n",
        "for i, (kernel, gamma, epsilon, C) in enumerate(param_combinations):\n",
        "    try:\n",
        "        # Check if the kernel is 'poly' and adjust parameters accordingly\n",
        "        if kernel == 'poly':\n",
        "            for degree in svm_degree:\n",
        "                # Train and evaluate the model with the current degree\n",
        "                rmse = train_and_evaluate(X_train, y_train, X_test, y_test, kernel, gamma, epsilon, C, degree)\n",
        "                result = (rmse, kernel, gamma, epsilon, C, degree)\n",
        "\n",
        "                # Add the result to the list\n",
        "                all_results.append(result)\n",
        "\n",
        "        else:\n",
        "            # Train and evaluate the model without degree\n",
        "            degree = 0\n",
        "            rmse = train_and_evaluate(X_train, y_train, X_test, y_test, kernel, gamma, epsilon, C)\n",
        "            result = (rmse, kernel, gamma, epsilon, C, degree)\n",
        "\n",
        "            # Add the result to the list\n",
        "            all_results.append(result)\n",
        "\n",
        "        # Print progress\n",
        "        if (i + 1) % 2500 == 0:\n",
        "            elapsed_time = time.time() - start_time\n",
        "            print(f\"Processed {i+1}/{len(param_combinations)} combinations. Elapsed time: {elapsed_time:.2f} seconds\")\n",
        "\n",
        "    except Exception as e:\n",
        "        print(f\"Error with combination {kernel}, {gamma}, {epsilon}, {C}: {str(e)}\")\n",
        "\n",
        "# Sort all results by RMSE (ascending order)\n",
        "all_results_sorted = sorted(all_results, key=lambda x: x[0])\n",
        "\n",
        "# Write sorted results to a file\n",
        "with open('svr_hyperparameter_tuning_results_all.txt', 'w') as f:\n",
        "    f.write(\"All Results (Lowest RMSE first):\\n\")\n",
        "    f.write(\"RMSE,kernel,gamma,epsilon,C, degree\\n\")\n",
        "    for rmse, kernel, gamma, epsilon, C, degree in all_results_sorted:\n",
        "        f.write(f\"{rmse},{kernel},{gamma},{epsilon},{C},{degree}\\n\")\n",
        "\n",
        "print(\"Hyperparameter tuning completed. All results saved in 'svr_hyperparameter_tuning_results_all.txt'\")"
      ],
      "metadata": {
        "id": "WD6Rj4Z0qGno",
        "colab": {
          "base_uri": "https://localhost:8080/",
          "height": 391
        },
        "outputId": "41a43f1c-8cbe-4713-f1ef-f6d58bc70c64"
      },
      "execution_count": null,
      "outputs": [
        {
          "output_type": "stream",
          "name": "stdout",
          "text": [
            "Processed 2500/72200 combinations. Elapsed time: 3.34 seconds\n",
            "Processed 5000/72200 combinations. Elapsed time: 6.70 seconds\n"
          ]
        },
        {
          "output_type": "error",
          "ename": "KeyboardInterrupt",
          "evalue": "",
          "traceback": [
            "\u001b[0;31m---------------------------------------------------------------------------\u001b[0m",
            "\u001b[0;31mKeyboardInterrupt\u001b[0m                         Traceback (most recent call last)",
            "\u001b[0;32m<ipython-input-36-8f9ecbf486be>\u001b[0m in \u001b[0;36m<cell line: 32>\u001b[0;34m()\u001b[0m\n\u001b[1;32m     45\u001b[0m             \u001b[0;31m# Train and evaluate the model without degree\u001b[0m\u001b[0;34m\u001b[0m\u001b[0;34m\u001b[0m\u001b[0m\n\u001b[1;32m     46\u001b[0m             \u001b[0mdegree\u001b[0m \u001b[0;34m=\u001b[0m \u001b[0;36m0\u001b[0m\u001b[0;34m\u001b[0m\u001b[0;34m\u001b[0m\u001b[0m\n\u001b[0;32m---> 47\u001b[0;31m             \u001b[0mrmse\u001b[0m \u001b[0;34m=\u001b[0m \u001b[0mtrain_and_evaluate\u001b[0m\u001b[0;34m(\u001b[0m\u001b[0mX_train\u001b[0m\u001b[0;34m,\u001b[0m \u001b[0my_train\u001b[0m\u001b[0;34m,\u001b[0m \u001b[0mX_test\u001b[0m\u001b[0;34m,\u001b[0m \u001b[0my_test\u001b[0m\u001b[0;34m,\u001b[0m \u001b[0mkernel\u001b[0m\u001b[0;34m,\u001b[0m \u001b[0mgamma\u001b[0m\u001b[0;34m,\u001b[0m \u001b[0mepsilon\u001b[0m\u001b[0;34m,\u001b[0m \u001b[0mC\u001b[0m\u001b[0;34m)\u001b[0m\u001b[0;34m\u001b[0m\u001b[0;34m\u001b[0m\u001b[0m\n\u001b[0m\u001b[1;32m     48\u001b[0m             \u001b[0mresult\u001b[0m \u001b[0;34m=\u001b[0m \u001b[0;34m(\u001b[0m\u001b[0mrmse\u001b[0m\u001b[0;34m,\u001b[0m \u001b[0mkernel\u001b[0m\u001b[0;34m,\u001b[0m \u001b[0mgamma\u001b[0m\u001b[0;34m,\u001b[0m \u001b[0mepsilon\u001b[0m\u001b[0;34m,\u001b[0m \u001b[0mC\u001b[0m\u001b[0;34m,\u001b[0m \u001b[0mdegree\u001b[0m\u001b[0;34m)\u001b[0m\u001b[0;34m\u001b[0m\u001b[0;34m\u001b[0m\u001b[0m\n\u001b[1;32m     49\u001b[0m \u001b[0;34m\u001b[0m\u001b[0m\n",
            "\u001b[0;32m<ipython-input-36-8f9ecbf486be>\u001b[0m in \u001b[0;36mtrain_and_evaluate\u001b[0;34m(X_train, y_train, X_test, y_test, kernel, gamma, epsilon, C, degree)\u001b[0m\n\u001b[1;32m     21\u001b[0m     \u001b[0msvr_model\u001b[0m\u001b[0;34m.\u001b[0m\u001b[0mfit\u001b[0m\u001b[0;34m(\u001b[0m\u001b[0mX_train\u001b[0m\u001b[0;34m,\u001b[0m \u001b[0my_train\u001b[0m\u001b[0;34m)\u001b[0m\u001b[0;34m\u001b[0m\u001b[0;34m\u001b[0m\u001b[0m\n\u001b[1;32m     22\u001b[0m     \u001b[0my_pred_svr\u001b[0m \u001b[0;34m=\u001b[0m \u001b[0msvr_model\u001b[0m\u001b[0;34m.\u001b[0m\u001b[0mpredict\u001b[0m\u001b[0;34m(\u001b[0m\u001b[0mX_test\u001b[0m\u001b[0;34m)\u001b[0m\u001b[0;34m\u001b[0m\u001b[0;34m\u001b[0m\u001b[0m\n\u001b[0;32m---> 23\u001b[0;31m     \u001b[0mrmse_svr\u001b[0m \u001b[0;34m=\u001b[0m \u001b[0mnp\u001b[0m\u001b[0;34m.\u001b[0m\u001b[0msqrt\u001b[0m\u001b[0;34m(\u001b[0m\u001b[0mmean_squared_error\u001b[0m\u001b[0;34m(\u001b[0m\u001b[0my_test\u001b[0m\u001b[0;34m,\u001b[0m \u001b[0my_pred_svr\u001b[0m\u001b[0;34m)\u001b[0m\u001b[0;34m)\u001b[0m\u001b[0;34m\u001b[0m\u001b[0;34m\u001b[0m\u001b[0m\n\u001b[0m\u001b[1;32m     24\u001b[0m     \u001b[0;32mreturn\u001b[0m \u001b[0mrmse_svr\u001b[0m\u001b[0;34m\u001b[0m\u001b[0;34m\u001b[0m\u001b[0m\n\u001b[1;32m     25\u001b[0m \u001b[0;34m\u001b[0m\u001b[0m\n",
            "\u001b[0;32m/usr/local/lib/python3.10/dist-packages/sklearn/utils/_param_validation.py\u001b[0m in \u001b[0;36mwrapper\u001b[0;34m(*args, **kwargs)\u001b[0m\n\u001b[1;32m    212\u001b[0m                     )\n\u001b[1;32m    213\u001b[0m                 ):\n\u001b[0;32m--> 214\u001b[0;31m                     \u001b[0;32mreturn\u001b[0m \u001b[0mfunc\u001b[0m\u001b[0;34m(\u001b[0m\u001b[0;34m*\u001b[0m\u001b[0margs\u001b[0m\u001b[0;34m,\u001b[0m \u001b[0;34m**\u001b[0m\u001b[0mkwargs\u001b[0m\u001b[0;34m)\u001b[0m\u001b[0;34m\u001b[0m\u001b[0;34m\u001b[0m\u001b[0m\n\u001b[0m\u001b[1;32m    215\u001b[0m             \u001b[0;32mexcept\u001b[0m \u001b[0mInvalidParameterError\u001b[0m \u001b[0;32mas\u001b[0m \u001b[0me\u001b[0m\u001b[0;34m:\u001b[0m\u001b[0;34m\u001b[0m\u001b[0;34m\u001b[0m\u001b[0m\n\u001b[1;32m    216\u001b[0m                 \u001b[0;31m# When the function is just a wrapper around an estimator, we allow\u001b[0m\u001b[0;34m\u001b[0m\u001b[0;34m\u001b[0m\u001b[0m\n",
            "\u001b[0;32m/usr/local/lib/python3.10/dist-packages/sklearn/metrics/_regression.py\u001b[0m in \u001b[0;36mmean_squared_error\u001b[0;34m(y_true, y_pred, sample_weight, multioutput, squared)\u001b[0m\n\u001b[1;32m    476\u001b[0m     )\n\u001b[1;32m    477\u001b[0m     \u001b[0mcheck_consistent_length\u001b[0m\u001b[0;34m(\u001b[0m\u001b[0my_true\u001b[0m\u001b[0;34m,\u001b[0m \u001b[0my_pred\u001b[0m\u001b[0;34m,\u001b[0m \u001b[0msample_weight\u001b[0m\u001b[0;34m)\u001b[0m\u001b[0;34m\u001b[0m\u001b[0;34m\u001b[0m\u001b[0m\n\u001b[0;32m--> 478\u001b[0;31m     \u001b[0moutput_errors\u001b[0m \u001b[0;34m=\u001b[0m \u001b[0mnp\u001b[0m\u001b[0;34m.\u001b[0m\u001b[0maverage\u001b[0m\u001b[0;34m(\u001b[0m\u001b[0;34m(\u001b[0m\u001b[0my_true\u001b[0m \u001b[0;34m-\u001b[0m \u001b[0my_pred\u001b[0m\u001b[0;34m)\u001b[0m \u001b[0;34m**\u001b[0m \u001b[0;36m2\u001b[0m\u001b[0;34m,\u001b[0m \u001b[0maxis\u001b[0m\u001b[0;34m=\u001b[0m\u001b[0;36m0\u001b[0m\u001b[0;34m,\u001b[0m \u001b[0mweights\u001b[0m\u001b[0;34m=\u001b[0m\u001b[0msample_weight\u001b[0m\u001b[0;34m)\u001b[0m\u001b[0;34m\u001b[0m\u001b[0;34m\u001b[0m\u001b[0m\n\u001b[0m\u001b[1;32m    479\u001b[0m \u001b[0;34m\u001b[0m\u001b[0m\n\u001b[1;32m    480\u001b[0m     \u001b[0;32mif\u001b[0m \u001b[0;32mnot\u001b[0m \u001b[0msquared\u001b[0m\u001b[0;34m:\u001b[0m\u001b[0;34m\u001b[0m\u001b[0;34m\u001b[0m\u001b[0m\n",
            "\u001b[0;32m/usr/local/lib/python3.10/dist-packages/numpy/lib/function_base.py\u001b[0m in \u001b[0;36maverage\u001b[0;34m(a, axis, weights, returned, keepdims)\u001b[0m\n\u001b[1;32m    518\u001b[0m \u001b[0;34m\u001b[0m\u001b[0m\n\u001b[1;32m    519\u001b[0m     \u001b[0;32mif\u001b[0m \u001b[0mweights\u001b[0m \u001b[0;32mis\u001b[0m \u001b[0;32mNone\u001b[0m\u001b[0;34m:\u001b[0m\u001b[0;34m\u001b[0m\u001b[0;34m\u001b[0m\u001b[0m\n\u001b[0;32m--> 520\u001b[0;31m         \u001b[0mavg\u001b[0m \u001b[0;34m=\u001b[0m \u001b[0ma\u001b[0m\u001b[0;34m.\u001b[0m\u001b[0mmean\u001b[0m\u001b[0;34m(\u001b[0m\u001b[0maxis\u001b[0m\u001b[0;34m,\u001b[0m \u001b[0;34m**\u001b[0m\u001b[0mkeepdims_kw\u001b[0m\u001b[0;34m)\u001b[0m\u001b[0;34m\u001b[0m\u001b[0;34m\u001b[0m\u001b[0m\n\u001b[0m\u001b[1;32m    521\u001b[0m         \u001b[0mavg_as_array\u001b[0m \u001b[0;34m=\u001b[0m \u001b[0mnp\u001b[0m\u001b[0;34m.\u001b[0m\u001b[0masanyarray\u001b[0m\u001b[0;34m(\u001b[0m\u001b[0mavg\u001b[0m\u001b[0;34m)\u001b[0m\u001b[0;34m\u001b[0m\u001b[0;34m\u001b[0m\u001b[0m\n\u001b[1;32m    522\u001b[0m         \u001b[0mscl\u001b[0m \u001b[0;34m=\u001b[0m \u001b[0mavg_as_array\u001b[0m\u001b[0;34m.\u001b[0m\u001b[0mdtype\u001b[0m\u001b[0;34m.\u001b[0m\u001b[0mtype\u001b[0m\u001b[0;34m(\u001b[0m\u001b[0ma\u001b[0m\u001b[0;34m.\u001b[0m\u001b[0msize\u001b[0m\u001b[0;34m/\u001b[0m\u001b[0mavg_as_array\u001b[0m\u001b[0;34m.\u001b[0m\u001b[0msize\u001b[0m\u001b[0;34m)\u001b[0m\u001b[0;34m\u001b[0m\u001b[0;34m\u001b[0m\u001b[0m\n",
            "\u001b[0;32m/usr/local/lib/python3.10/dist-packages/numpy/core/_methods.py\u001b[0m in \u001b[0;36m_mean\u001b[0;34m(a, axis, dtype, out, keepdims, where)\u001b[0m\n\u001b[1;32m    118\u001b[0m     \u001b[0mret\u001b[0m \u001b[0;34m=\u001b[0m \u001b[0mumr_sum\u001b[0m\u001b[0;34m(\u001b[0m\u001b[0marr\u001b[0m\u001b[0;34m,\u001b[0m \u001b[0maxis\u001b[0m\u001b[0;34m,\u001b[0m \u001b[0mdtype\u001b[0m\u001b[0;34m,\u001b[0m \u001b[0mout\u001b[0m\u001b[0;34m,\u001b[0m \u001b[0mkeepdims\u001b[0m\u001b[0;34m,\u001b[0m \u001b[0mwhere\u001b[0m\u001b[0;34m=\u001b[0m\u001b[0mwhere\u001b[0m\u001b[0;34m)\u001b[0m\u001b[0;34m\u001b[0m\u001b[0;34m\u001b[0m\u001b[0m\n\u001b[1;32m    119\u001b[0m     \u001b[0;32mif\u001b[0m \u001b[0misinstance\u001b[0m\u001b[0;34m(\u001b[0m\u001b[0mret\u001b[0m\u001b[0;34m,\u001b[0m \u001b[0mmu\u001b[0m\u001b[0;34m.\u001b[0m\u001b[0mndarray\u001b[0m\u001b[0;34m)\u001b[0m\u001b[0;34m:\u001b[0m\u001b[0;34m\u001b[0m\u001b[0;34m\u001b[0m\u001b[0m\n\u001b[0;32m--> 120\u001b[0;31m         \u001b[0;32mwith\u001b[0m \u001b[0m_no_nep50_warning\u001b[0m\u001b[0;34m(\u001b[0m\u001b[0;34m)\u001b[0m\u001b[0;34m:\u001b[0m\u001b[0;34m\u001b[0m\u001b[0;34m\u001b[0m\u001b[0m\n\u001b[0m\u001b[1;32m    121\u001b[0m             ret = um.true_divide(\n\u001b[1;32m    122\u001b[0m                     ret, rcount, out=ret, casting='unsafe', subok=False)\n",
            "\u001b[0;32m/usr/lib/python3.10/contextlib.py\u001b[0m in \u001b[0;36mhelper\u001b[0;34m(*args, **kwds)\u001b[0m\n\u001b[1;32m    279\u001b[0m     \u001b[0;34m@\u001b[0m\u001b[0mwraps\u001b[0m\u001b[0;34m(\u001b[0m\u001b[0mfunc\u001b[0m\u001b[0;34m)\u001b[0m\u001b[0;34m\u001b[0m\u001b[0;34m\u001b[0m\u001b[0m\n\u001b[1;32m    280\u001b[0m     \u001b[0;32mdef\u001b[0m \u001b[0mhelper\u001b[0m\u001b[0;34m(\u001b[0m\u001b[0;34m*\u001b[0m\u001b[0margs\u001b[0m\u001b[0;34m,\u001b[0m \u001b[0;34m**\u001b[0m\u001b[0mkwds\u001b[0m\u001b[0;34m)\u001b[0m\u001b[0;34m:\u001b[0m\u001b[0;34m\u001b[0m\u001b[0;34m\u001b[0m\u001b[0m\n\u001b[0;32m--> 281\u001b[0;31m         \u001b[0;32mreturn\u001b[0m \u001b[0m_GeneratorContextManager\u001b[0m\u001b[0;34m(\u001b[0m\u001b[0mfunc\u001b[0m\u001b[0;34m,\u001b[0m \u001b[0margs\u001b[0m\u001b[0;34m,\u001b[0m \u001b[0mkwds\u001b[0m\u001b[0;34m)\u001b[0m\u001b[0;34m\u001b[0m\u001b[0;34m\u001b[0m\u001b[0m\n\u001b[0m\u001b[1;32m    282\u001b[0m     \u001b[0;32mreturn\u001b[0m \u001b[0mhelper\u001b[0m\u001b[0;34m\u001b[0m\u001b[0;34m\u001b[0m\u001b[0m\n\u001b[1;32m    283\u001b[0m \u001b[0;34m\u001b[0m\u001b[0m\n",
            "\u001b[0;32m/usr/lib/python3.10/contextlib.py\u001b[0m in \u001b[0;36m__init__\u001b[0;34m(self, func, args, kwds)\u001b[0m\n\u001b[1;32m    100\u001b[0m     \u001b[0;34m\"\"\"Shared functionality for @contextmanager and @asynccontextmanager.\"\"\"\u001b[0m\u001b[0;34m\u001b[0m\u001b[0;34m\u001b[0m\u001b[0m\n\u001b[1;32m    101\u001b[0m \u001b[0;34m\u001b[0m\u001b[0m\n\u001b[0;32m--> 102\u001b[0;31m     \u001b[0;32mdef\u001b[0m \u001b[0m__init__\u001b[0m\u001b[0;34m(\u001b[0m\u001b[0mself\u001b[0m\u001b[0;34m,\u001b[0m \u001b[0mfunc\u001b[0m\u001b[0;34m,\u001b[0m \u001b[0margs\u001b[0m\u001b[0;34m,\u001b[0m \u001b[0mkwds\u001b[0m\u001b[0;34m)\u001b[0m\u001b[0;34m:\u001b[0m\u001b[0;34m\u001b[0m\u001b[0;34m\u001b[0m\u001b[0m\n\u001b[0m\u001b[1;32m    103\u001b[0m         \u001b[0mself\u001b[0m\u001b[0;34m.\u001b[0m\u001b[0mgen\u001b[0m \u001b[0;34m=\u001b[0m \u001b[0mfunc\u001b[0m\u001b[0;34m(\u001b[0m\u001b[0;34m*\u001b[0m\u001b[0margs\u001b[0m\u001b[0;34m,\u001b[0m \u001b[0;34m**\u001b[0m\u001b[0mkwds\u001b[0m\u001b[0;34m)\u001b[0m\u001b[0;34m\u001b[0m\u001b[0;34m\u001b[0m\u001b[0m\n\u001b[1;32m    104\u001b[0m         \u001b[0mself\u001b[0m\u001b[0;34m.\u001b[0m\u001b[0mfunc\u001b[0m\u001b[0;34m,\u001b[0m \u001b[0mself\u001b[0m\u001b[0;34m.\u001b[0m\u001b[0margs\u001b[0m\u001b[0;34m,\u001b[0m \u001b[0mself\u001b[0m\u001b[0;34m.\u001b[0m\u001b[0mkwds\u001b[0m \u001b[0;34m=\u001b[0m \u001b[0mfunc\u001b[0m\u001b[0;34m,\u001b[0m \u001b[0margs\u001b[0m\u001b[0;34m,\u001b[0m \u001b[0mkwds\u001b[0m\u001b[0;34m\u001b[0m\u001b[0;34m\u001b[0m\u001b[0m\n",
            "\u001b[0;31mKeyboardInterrupt\u001b[0m: "
          ]
        }
      ]
    },
    {
      "cell_type": "code",
      "execution_count": null,
      "metadata": {
        "colab": {
          "base_uri": "https://localhost:8080/"
        },
        "collapsed": true,
        "id": "dKmEszQubIqm",
        "outputId": "f235f3a4-2593-4a0a-966d-d61fec169af3"
      },
      "outputs": [
        {
          "output_type": "stream",
          "name": "stdout",
          "text": [
            "Kernel = rbf\n",
            "Gamma = auto\n",
            "Epsilon = 0.1\n",
            "Regularisation = 9\n",
            "Degree = 0\n",
            "RMSE = 0.1787449153063134\n"
          ]
        }
      ],
      "source": [
        "from sklearn.svm import SVR\n",
        "from sklearn.metrics import mean_squared_error\n",
        "\n",
        "#hyper-parameters\n",
        "svm_kernel=['rbf','linear','poly','sigmoid']\n",
        "#svm_gamma=np.arange(0.1, 1, 0.05).tolist()\n",
        "svm_gamma=['scale','auto']\n",
        "svm_epsilon =np.arange(0.1, 1, 0.05).tolist()\n",
        "svm_c       =np.arange(1, 51, 1).tolist()\n",
        "svm_degree  =np.arange(1, 4, 1).tolist()\n",
        "svm_rmse=[]\n",
        "svm_hyper_epsilon=[]\n",
        "svm_hyper_gamma=[]\n",
        "svm_hyper_kernel=[]\n",
        "svm_hyper_c=[]\n",
        "svm_hyper_degree=[]\n",
        "\n",
        "for i in svm_kernel :\n",
        "  for p in svm_gamma :\n",
        "    for j in svm_epsilon :\n",
        "      for k in svm_c :\n",
        "        if i == 'poly' :\n",
        "          for u in svm_degree :\n",
        "            svr_model = SVR(kernel=i,gamma=p,epsilon=j,C=k, degree = u)\n",
        "            svr_model.fit(X_train, y_train) #no changes\n",
        "            y_pred_svr = svr_model.predict(X_test) #no changes\n",
        "            rmse_svr = np.sqrt(mean_squared_error(y_test, y_pred_svr)) #no changes\n",
        "            svm_hyper_kernel.append(i)\n",
        "            svm_hyper_gamma.append(p)\n",
        "            svm_hyper_epsilon.append(j)\n",
        "            svm_hyper_c.append(k)\n",
        "            svm_hyper_degree.append(u)\n",
        "            svm_rmse.append(rmse_svr)\n",
        "        else:\n",
        "            svr_model = SVR(kernel=i,gamma=p,epsilon=j,C=k, degree = 3)\n",
        "            svr_model.fit(X_train, y_train) #no changes\n",
        "            y_pred_svr = svr_model.predict(X_test) #no changes\n",
        "            rmse_svr = np.sqrt(mean_squared_error(y_test, y_pred_svr)) #no changes\n",
        "            svm_hyper_kernel.append(i)\n",
        "            svm_hyper_gamma.append(p)\n",
        "            svm_hyper_epsilon.append(j)\n",
        "            svm_hyper_c.append(k)\n",
        "            svm_hyper_degree.append(0)\n",
        "            svm_rmse.append(rmse_svr)\n",
        "\n",
        "\n",
        "\n",
        "sn=np.min(svm_rmse)\n",
        "index=svm_rmse.index(sn)\n",
        "con_kernel=svm_hyper_kernel[index]\n",
        "con_gamma=svm_hyper_gamma[index]\n",
        "con_epsilon=svm_hyper_epsilon[index]\n",
        "con_c=svm_hyper_c[index]\n",
        "con_degree=svm_hyper_degree[index]\n",
        "\n",
        "print(\"Kernel =\", con_kernel  )\n",
        "print(\"Gamma =\", con_gamma )\n",
        "print(\"Epsilon =\", con_epsilon  )\n",
        "print(\"Regularisation =\", con_c )\n",
        "print(\"Degree =\", con_degree)\n",
        "print(\"RMSE =\", sn )\n",
        "\n",
        "#y_pred_svr = svr_model.predict(X_test)\n",
        "#rmse_svr = np.sqrt(mean_squared_error(y_test, y_pred_svr))\n",
        "#print(\"Root Mean Squared Error (RMSE):\", rmse_svr)\n"
      ]
    },
    {
      "cell_type": "code",
      "execution_count": null,
      "metadata": {
        "colab": {
          "base_uri": "https://localhost:8080/"
        },
        "id": "dFIPMI9IiT6O",
        "outputId": "75a6b101-9946-480c-a257-13be6212ee67"
      },
      "outputs": [
        {
          "name": "stdout",
          "output_type": "stream",
          "text": [
            "Processed 2500/72200 combinations. Elapsed time: 4.96 seconds\n",
            "Processed 5000/72200 combinations. Elapsed time: 8.80 seconds\n",
            "Processed 7500/72200 combinations. Elapsed time: 12.42 seconds\n",
            "Processed 10000/72200 combinations. Elapsed time: 17.42 seconds\n",
            "Processed 12500/72200 combinations. Elapsed time: 20.97 seconds\n",
            "Processed 15000/72200 combinations. Elapsed time: 24.46 seconds\n",
            "Processed 17500/72200 combinations. Elapsed time: 29.26 seconds\n",
            "Processed 20000/72200 combinations. Elapsed time: 34.73 seconds\n",
            "Processed 22500/72200 combinations. Elapsed time: 40.03 seconds\n",
            "Processed 25000/72200 combinations. Elapsed time: 47.04 seconds\n",
            "Processed 27500/72200 combinations. Elapsed time: 51.97 seconds\n",
            "Processed 30000/72200 combinations. Elapsed time: 59.19 seconds\n",
            "Processed 32500/72200 combinations. Elapsed time: 64.71 seconds\n",
            "Processed 35000/72200 combinations. Elapsed time: 71.26 seconds\n",
            "Processed 37500/72200 combinations. Elapsed time: 79.95 seconds\n",
            "Processed 40000/72200 combinations. Elapsed time: 96.26 seconds\n"
          ]
        }
      ],
      "source": [
        "from sklearn.svm import SVR\n",
        "from sklearn.metrics import mean_squared_error\n",
        "from itertools import product\n",
        "import time\n",
        "import heapq\n",
        "\n",
        "svm_kernel=['rbf','linear','poly','sigmoid']\n",
        "svm_gamma=np.arange(0.05, 1.0, 0.05).tolist()\n",
        "svm_epsilon=np.arange(0.05, 1.0, 0.05).tolist()\n",
        "svm_c=np.arange(1, 51, 1).tolist()\n",
        "svm_degree=np.arange(1, 4, 1).tolist()\n",
        "\n",
        "param_combinations = list(product(svm_kernel, svm_gamma, svm_epsilon, svm_c))\n",
        "\n",
        "# Function to train model and calculate RMSE\n",
        "def train_and_evaluate(X_train, y_train, X_test, y_test, kernel, gamma, epsilon, C, degree=None):\n",
        "    if degree == None:\n",
        "      svr_model = SVR(kernel=kernel, gamma=gamma, epsilon=epsilon, C=C)\n",
        "    else:\n",
        "      svr_model = SVR(kernel=kernel, gamma=gamma, epsilon=epsilon, C=C, degree=degree)\n",
        "    svr_model.fit(X_train, y_train)\n",
        "    y_pred_svr = svr_model.predict(X_test)\n",
        "    rmse_svr = np.sqrt(mean_squared_error(y_test, y_pred_svr))\n",
        "    return rmse_svr\n",
        "\n",
        "# List to store all results\n",
        "all_results = []\n",
        "\n",
        "start_time = time.time()\n",
        "\n",
        "# Loop over all hyperparameter combinations\n",
        "for i, (kernel, gamma, epsilon, C) in enumerate(param_combinations):\n",
        "    try:\n",
        "        # Check if the kernel is 'poly' and adjust parameters accordingly\n",
        "        if kernel == 'poly':\n",
        "            for degree in svm_degree:\n",
        "                # Train and evaluate the model with the current degree\n",
        "                rmse = train_and_evaluate(X_train, y_train, X_test, y_test, kernel, gamma, epsilon, C, degree)\n",
        "                result = (rmse, kernel, gamma, epsilon, C, degree)\n",
        "\n",
        "                # Add the result to the list\n",
        "                all_results.append(result)\n",
        "\n",
        "        else:\n",
        "            # Train and evaluate the model without degree\n",
        "            degree = 0\n",
        "            rmse = train_and_evaluate(X_train, y_train, X_test, y_test, kernel, gamma, epsilon, C)\n",
        "            result = (rmse, kernel, gamma, epsilon, C, degree)\n",
        "\n",
        "            # Add the result to the list\n",
        "            all_results.append(result)\n",
        "\n",
        "        # Print progress\n",
        "        if (i + 1) % 2500 == 0:\n",
        "            elapsed_time = time.time() - start_time\n",
        "            print(f\"Processed {i+1}/{len(param_combinations)} combinations. Elapsed time: {elapsed_time:.2f} seconds\")\n",
        "\n",
        "    except Exception as e:\n",
        "        print(f\"Error with combination {kernel}, {gamma}, {epsilon}, {C}: {str(e)}\")\n",
        "\n",
        "# Sort all results by RMSE (ascending order)\n",
        "all_results_sorted = sorted(all_results, key=lambda x: x[0])\n",
        "\n",
        "# Write sorted results to a file\n",
        "with open('svr_hyperparameter_tuning_results_all.txt', 'w') as f:\n",
        "    f.write(\"All Results (Lowest RMSE first):\\n\")\n",
        "    f.write(\"RMSE,kernel,gamma,epsilon,C, degree\\n\")\n",
        "    for rmse, kernel, gamma, epsilon, C, degree in all_results_sorted:\n",
        "        f.write(f\"{rmse},{kernel},{gamma},{epsilon},{C},{degree}\\n\")\n",
        "\n",
        "print(\"Hyperparameter tuning completed. All results saved in 'svr_hyperparameter_tuning_results_all.txt'\")\n"
      ]
    },
    {
      "cell_type": "markdown",
      "metadata": {
        "id": "s6386WQvcDAf"
      },
      "source": [
        "Aritra's SVM"
      ]
    },
    {
      "cell_type": "code",
      "execution_count": 39,
      "metadata": {
        "id": "vk5VUzqWcCvj",
        "colab": {
          "base_uri": "https://localhost:8080/"
        },
        "outputId": "bea16d30-828c-4af9-d581-042cdb2c931c"
      },
      "outputs": [
        {
          "output_type": "stream",
          "name": "stdout",
          "text": [
            "Processed 500/9680 combinations. Elapsed time: 2.56 seconds\n",
            "Processed 1000/9680 combinations. Elapsed time: 5.57 seconds\n",
            "Processed 1500/9680 combinations. Elapsed time: 6.75 seconds\n",
            "Processed 2000/9680 combinations. Elapsed time: 8.16 seconds\n",
            "Processed 2500/9680 combinations. Elapsed time: 8.82 seconds\n",
            "Processed 3000/9680 combinations. Elapsed time: 9.48 seconds\n",
            "Processed 3500/9680 combinations. Elapsed time: 10.13 seconds\n",
            "Processed 4000/9680 combinations. Elapsed time: 10.81 seconds\n",
            "Processed 4500/9680 combinations. Elapsed time: 11.50 seconds\n",
            "Processed 5000/9680 combinations. Elapsed time: 12.13 seconds\n",
            "Processed 5500/9680 combinations. Elapsed time: 12.69 seconds\n",
            "Processed 6000/9680 combinations. Elapsed time: 13.36 seconds\n",
            "Processed 6500/9680 combinations. Elapsed time: 14.11 seconds\n",
            "Processed 7000/9680 combinations. Elapsed time: 15.00 seconds\n",
            "Processed 7500/9680 combinations. Elapsed time: 16.11 seconds\n",
            "Processed 8000/9680 combinations. Elapsed time: 16.99 seconds\n",
            "Processed 8500/9680 combinations. Elapsed time: 19.18 seconds\n",
            "Processed 9000/9680 combinations. Elapsed time: 19.95 seconds\n",
            "Processed 9500/9680 combinations. Elapsed time: 20.57 seconds\n",
            "Hyperparameter tuning completed. All results saved in 'svr_hyperparameter_tuning_results_all.txt'\n"
          ]
        }
      ],
      "source": [
        "from sklearn.svm import SVR\n",
        "from sklearn.metrics import mean_squared_error\n",
        "from itertools import product\n",
        "import time\n",
        "import heapq\n",
        "\n",
        "svm_kernel=['rbf','linear','poly','sigmoid']\n",
        "svm_gamma=[0.0,0.1,0.2,0.3,0.4,0.5,0.6,0.7,0.8,0.9,1.0]\n",
        "svm_epsilon=[0.01, 0.1,0.2,0.3,0.4,0.5,0.6,0.7,0.8,0.9,1.0]\n",
        "svm_c=np.arange(1, 21, 1).tolist()\n",
        "\n",
        "param_combinations = list(product(svm_kernel, svm_gamma, svm_epsilon, svm_c))\n",
        "\n",
        "# Function to train model and calculate RMSE\n",
        "def train_and_evaluate(X_train, y_train, X_test, y_test, kernel, gamma, epsilon, C):\n",
        "    svr_model = SVR(kernel=kernel, gamma=gamma, epsilon=epsilon, C=C)\n",
        "    svr_model.fit(X_train, y_train)\n",
        "    y_pred_svr = svr_model.predict(X_test)\n",
        "    rmse_svr = np.sqrt(mean_squared_error(y_test, y_pred_svr))\n",
        "    return rmse_svr\n",
        "\n",
        "# List to store all results\n",
        "all_results = []\n",
        "\n",
        "start_time = time.time()\n",
        "\n",
        "# Loop over all hyperparameter combinations\n",
        "for i, (kernel, gamma, epsilon, C) in enumerate(param_combinations):\n",
        "    try:\n",
        "        # Train and evaluate the model\n",
        "        rmse = train_and_evaluate(X_train, y_train, X_test, y_test, kernel, gamma, epsilon, C)\n",
        "        result = (rmse, kernel, gamma, epsilon, C)\n",
        "\n",
        "        # Add the result to the list\n",
        "        all_results.append(result)\n",
        "\n",
        "        # Print progress\n",
        "        if (i + 1) % 500 == 0:\n",
        "            elapsed_time = time.time() - start_time\n",
        "            print(f\"Processed {i+1}/{len(param_combinations)} combinations. Elapsed time: {elapsed_time:.2f} seconds\")\n",
        "\n",
        "    except Exception as e:\n",
        "        print(f\"Error with combination {kernel}, {gamma}, {epsilon}, {C}: {str(e)}\")\n",
        "\n",
        "# Sort all results by RMSE (ascending order)\n",
        "all_results_sorted = sorted(all_results, key=lambda x: x[0])\n",
        "\n",
        "# Write sorted results to a file\n",
        "with open('svr_hyperparameter_tuning_results_all.txt', 'w') as f:\n",
        "    f.write(\"All Results (Lowest RMSE first):\\n\")\n",
        "    f.write(\"RMSE,kernel,gamma,epsilon,C\\n\")\n",
        "    for rmse, kernel, gamma, epsilon, C in all_results_sorted:\n",
        "        f.write(f\"{rmse},{kernel},{gamma},{epsilon},{C}\\n\")\n",
        "\n",
        "print(\"Hyperparameter tuning completed. All results saved in 'svr_hyperparameter_tuning_results_all.txt'\")"
      ]
    },
    {
      "cell_type": "code",
      "execution_count": null,
      "metadata": {
        "colab": {
          "base_uri": "https://localhost:8080/"
        },
        "id": "l1d4vZKNYKIP",
        "outputId": "0f27dca0-2b41-4981-b1d8-4c300c020751"
      },
      "outputs": [
        {
          "name": "stdout",
          "output_type": "stream",
          "text": [
            "0\n",
            "1\n",
            "2\n",
            "3\n",
            "4\n",
            "5\n",
            "6\n",
            "7\n",
            "8\n",
            "9\n",
            "10\n"
          ]
        }
      ],
      "source": [
        "testarray=np.arange(0, 11, 1).tolist()\n",
        "for a in testarray :\n",
        "  print(a)"
      ]
    },
    {
      "cell_type": "markdown",
      "metadata": {
        "id": "MvgLMzSkuH5S"
      },
      "source": [
        "GPR"
      ]
    },
    {
      "cell_type": "code",
      "execution_count": 15,
      "metadata": {
        "colab": {
          "base_uri": "https://localhost:8080/"
        },
        "id": "aTp3HiS0t9pQ",
        "outputId": "a06951f6-7a80-4040-99d4-98520e2efd74"
      },
      "outputs": [
        {
          "output_type": "stream",
          "name": "stdout",
          "text": [
            "Root Mean Squared Error (RMSE): 0.5456426955905431\n"
          ]
        }
      ],
      "source": [
        "from sklearn.gaussian_process import GaussianProcessRegressor\n",
        "from sklearn.gaussian_process.kernels import DotProduct, WhiteKernel\n",
        "from sklearn.gaussian_process.kernels import RationalQuadratic\n",
        "from sklearn.gaussian_process.kernels import Matern\n",
        "\n",
        "#hyper-parameters\n",
        "kernel = DotProduct() + WhiteKernel()\n",
        "kernel_2 = RationalQuadratic(length_scale=1.0, alpha=1.5)\n",
        "kernel_3 = 1.0 * Matern(length_scale=1.0, nu=0.1)\n",
        "#gpr = GaussianProcessRegressor(kernel=kernel,random_state=0).fit(X, y)\n",
        "gpr = GaussianProcessRegressor().fit(X_train, y_train)\n",
        "\n",
        "\n",
        "#gpr.score(X, y)\n",
        "#gpr.predict(X[:2,:], return_std=True)\n",
        "\n",
        "from sklearn.metrics import mean_squared_error\n",
        "y_pred_gpr = gpr.predict(X_test)\n",
        "rmse_gpr = np.sqrt(mean_squared_error(y_test, y_pred_gpr))\n",
        "print(\"Root Mean Squared Error (RMSE):\", rmse_gpr)"
      ]
    },
    {
      "cell_type": "markdown",
      "metadata": {
        "id": "Lku3TR_DHifq"
      },
      "source": [
        "Partial Least Squares"
      ]
    },
    {
      "cell_type": "code",
      "execution_count": 17,
      "metadata": {
        "colab": {
          "base_uri": "https://localhost:8080/"
        },
        "id": "PUVES8TtHhsE",
        "outputId": "d2f7487d-7a6d-4304-8df9-741f07fa95a2"
      },
      "outputs": [
        {
          "output_type": "stream",
          "name": "stdout",
          "text": [
            "Root Mean Squared Error (RMSE): 0.082097061244374\n"
          ]
        }
      ],
      "source": [
        "from sklearn.cross_decomposition import PLSRegression\n",
        "#pls2 = PLSRegression(n_components=2)\n",
        "pls = PLSRegression()\n",
        "pls.fit(X_train, y_train)\n",
        "PLSRegression()\n",
        "\n",
        "from sklearn.metrics import mean_squared_error\n",
        "y_pred_pls = pls.predict(X_test)\n",
        "rmse_pls = np.sqrt(mean_squared_error(y_test, y_pred_pls))\n",
        "print(\"Root Mean Squared Error (RMSE):\", rmse_pls)"
      ]
    },
    {
      "cell_type": "markdown",
      "metadata": {
        "id": "XXQIOPAxKVq7"
      },
      "source": [
        "Gaussian Naive Bays Regression"
      ]
    },
    {
      "cell_type": "code",
      "execution_count": 18,
      "metadata": {
        "colab": {
          "base_uri": "https://localhost:8080/",
          "height": 529
        },
        "collapsed": true,
        "id": "gERYl0FqKIHa",
        "outputId": "308014c8-544c-4999-a0dc-14e5214848a2"
      },
      "outputs": [
        {
          "output_type": "error",
          "ename": "ValueError",
          "evalue": "Unknown label type: (array([0.        , 0.00616081, 0.01477133, 0.01756325, 0.04351344,\n       0.09308778, 0.10574402, 0.10863712, 0.10867717, 0.11234866,\n       0.12146225, 0.12353169, 0.12587512, 0.13985885, 0.14103955,\n       0.14544717, 0.15029693, 0.15413767, 0.15829324, 0.16405955,\n       0.1799645 , 0.19527722, 0.19799393, 0.19982567, 0.20177863,\n       0.20464401, 0.20627704, 0.21137882, 0.22315255, 0.22844542,\n       0.25047189, 0.26643203, 0.27447907, 0.27889186, 0.28402808,\n       0.2863082 , 0.30530585, 0.36842196, 0.39335525, 0.40088345,\n       0.41810904, 0.42903063, 0.43324565, 0.43882509, 0.45593756,\n       0.46549997, 0.46817616, 0.4973192 , 0.52973484, 0.63211924,\n       0.72296404, 1.        ]),)",
          "traceback": [
            "\u001b[0;31m---------------------------------------------------------------------------\u001b[0m",
            "\u001b[0;31mValueError\u001b[0m                                Traceback (most recent call last)",
            "\u001b[0;32m<ipython-input-18-12be92934edc>\u001b[0m in \u001b[0;36m<cell line: 4>\u001b[0;34m()\u001b[0m\n\u001b[1;32m      2\u001b[0m \u001b[0;34m\u001b[0m\u001b[0m\n\u001b[1;32m      3\u001b[0m \u001b[0mgnb\u001b[0m \u001b[0;34m=\u001b[0m \u001b[0mGaussianNB\u001b[0m\u001b[0;34m(\u001b[0m\u001b[0;34m)\u001b[0m\u001b[0;34m\u001b[0m\u001b[0;34m\u001b[0m\u001b[0m\n\u001b[0;32m----> 4\u001b[0;31m \u001b[0mgnb\u001b[0m\u001b[0;34m.\u001b[0m\u001b[0mfit\u001b[0m\u001b[0;34m(\u001b[0m\u001b[0mX_train\u001b[0m\u001b[0;34m,\u001b[0m \u001b[0my_train\u001b[0m\u001b[0;34m)\u001b[0m\u001b[0;34m\u001b[0m\u001b[0;34m\u001b[0m\u001b[0m\n\u001b[0m\u001b[1;32m      5\u001b[0m \u001b[0mprint\u001b[0m\u001b[0;34m(\u001b[0m\u001b[0;34m\"Number of mislabeled points out of a total %d points : %d\"\u001b[0m \u001b[0;34m%\u001b[0m \u001b[0;34m(\u001b[0m\u001b[0mX_test\u001b[0m\u001b[0;34m.\u001b[0m\u001b[0mshape\u001b[0m\u001b[0;34m[\u001b[0m\u001b[0;36m0\u001b[0m\u001b[0;34m]\u001b[0m\u001b[0;34m,\u001b[0m \u001b[0;34m(\u001b[0m\u001b[0my_test\u001b[0m \u001b[0;34m!=\u001b[0m \u001b[0my_pred\u001b[0m\u001b[0;34m)\u001b[0m\u001b[0;34m.\u001b[0m\u001b[0msum\u001b[0m\u001b[0;34m(\u001b[0m\u001b[0;34m)\u001b[0m\u001b[0;34m)\u001b[0m\u001b[0;34m)\u001b[0m\u001b[0;34m\u001b[0m\u001b[0;34m\u001b[0m\u001b[0m\n\u001b[1;32m      6\u001b[0m \u001b[0;34m\u001b[0m\u001b[0m\n",
            "\u001b[0;32m/usr/local/lib/python3.10/dist-packages/sklearn/base.py\u001b[0m in \u001b[0;36mwrapper\u001b[0;34m(estimator, *args, **kwargs)\u001b[0m\n\u001b[1;32m   1150\u001b[0m                 )\n\u001b[1;32m   1151\u001b[0m             ):\n\u001b[0;32m-> 1152\u001b[0;31m                 \u001b[0;32mreturn\u001b[0m \u001b[0mfit_method\u001b[0m\u001b[0;34m(\u001b[0m\u001b[0mestimator\u001b[0m\u001b[0;34m,\u001b[0m \u001b[0;34m*\u001b[0m\u001b[0margs\u001b[0m\u001b[0;34m,\u001b[0m \u001b[0;34m**\u001b[0m\u001b[0mkwargs\u001b[0m\u001b[0;34m)\u001b[0m\u001b[0;34m\u001b[0m\u001b[0;34m\u001b[0m\u001b[0m\n\u001b[0m\u001b[1;32m   1153\u001b[0m \u001b[0;34m\u001b[0m\u001b[0m\n\u001b[1;32m   1154\u001b[0m         \u001b[0;32mreturn\u001b[0m \u001b[0mwrapper\u001b[0m\u001b[0;34m\u001b[0m\u001b[0;34m\u001b[0m\u001b[0m\n",
            "\u001b[0;32m/usr/local/lib/python3.10/dist-packages/sklearn/naive_bayes.py\u001b[0m in \u001b[0;36mfit\u001b[0;34m(self, X, y, sample_weight)\u001b[0m\n\u001b[1;32m    261\u001b[0m         \"\"\"\n\u001b[1;32m    262\u001b[0m         \u001b[0my\u001b[0m \u001b[0;34m=\u001b[0m \u001b[0mself\u001b[0m\u001b[0;34m.\u001b[0m\u001b[0m_validate_data\u001b[0m\u001b[0;34m(\u001b[0m\u001b[0my\u001b[0m\u001b[0;34m=\u001b[0m\u001b[0my\u001b[0m\u001b[0;34m)\u001b[0m\u001b[0;34m\u001b[0m\u001b[0;34m\u001b[0m\u001b[0m\n\u001b[0;32m--> 263\u001b[0;31m         return self._partial_fit(\n\u001b[0m\u001b[1;32m    264\u001b[0m             \u001b[0mX\u001b[0m\u001b[0;34m,\u001b[0m \u001b[0my\u001b[0m\u001b[0;34m,\u001b[0m \u001b[0mnp\u001b[0m\u001b[0;34m.\u001b[0m\u001b[0munique\u001b[0m\u001b[0;34m(\u001b[0m\u001b[0my\u001b[0m\u001b[0;34m)\u001b[0m\u001b[0;34m,\u001b[0m \u001b[0m_refit\u001b[0m\u001b[0;34m=\u001b[0m\u001b[0;32mTrue\u001b[0m\u001b[0;34m,\u001b[0m \u001b[0msample_weight\u001b[0m\u001b[0;34m=\u001b[0m\u001b[0msample_weight\u001b[0m\u001b[0;34m\u001b[0m\u001b[0;34m\u001b[0m\u001b[0m\n\u001b[1;32m    265\u001b[0m         )\n",
            "\u001b[0;32m/usr/local/lib/python3.10/dist-packages/sklearn/naive_bayes.py\u001b[0m in \u001b[0;36m_partial_fit\u001b[0;34m(self, X, y, classes, _refit, sample_weight)\u001b[0m\n\u001b[1;32m    420\u001b[0m             \u001b[0mself\u001b[0m\u001b[0;34m.\u001b[0m\u001b[0mclasses_\u001b[0m \u001b[0;34m=\u001b[0m \u001b[0;32mNone\u001b[0m\u001b[0;34m\u001b[0m\u001b[0;34m\u001b[0m\u001b[0m\n\u001b[1;32m    421\u001b[0m \u001b[0;34m\u001b[0m\u001b[0m\n\u001b[0;32m--> 422\u001b[0;31m         \u001b[0mfirst_call\u001b[0m \u001b[0;34m=\u001b[0m \u001b[0m_check_partial_fit_first_call\u001b[0m\u001b[0;34m(\u001b[0m\u001b[0mself\u001b[0m\u001b[0;34m,\u001b[0m \u001b[0mclasses\u001b[0m\u001b[0;34m)\u001b[0m\u001b[0;34m\u001b[0m\u001b[0;34m\u001b[0m\u001b[0m\n\u001b[0m\u001b[1;32m    423\u001b[0m         \u001b[0mX\u001b[0m\u001b[0;34m,\u001b[0m \u001b[0my\u001b[0m \u001b[0;34m=\u001b[0m \u001b[0mself\u001b[0m\u001b[0;34m.\u001b[0m\u001b[0m_validate_data\u001b[0m\u001b[0;34m(\u001b[0m\u001b[0mX\u001b[0m\u001b[0;34m,\u001b[0m \u001b[0my\u001b[0m\u001b[0;34m,\u001b[0m \u001b[0mreset\u001b[0m\u001b[0;34m=\u001b[0m\u001b[0mfirst_call\u001b[0m\u001b[0;34m)\u001b[0m\u001b[0;34m\u001b[0m\u001b[0;34m\u001b[0m\u001b[0m\n\u001b[1;32m    424\u001b[0m         \u001b[0;32mif\u001b[0m \u001b[0msample_weight\u001b[0m \u001b[0;32mis\u001b[0m \u001b[0;32mnot\u001b[0m \u001b[0;32mNone\u001b[0m\u001b[0;34m:\u001b[0m\u001b[0;34m\u001b[0m\u001b[0;34m\u001b[0m\u001b[0m\n",
            "\u001b[0;32m/usr/local/lib/python3.10/dist-packages/sklearn/utils/multiclass.py\u001b[0m in \u001b[0;36m_check_partial_fit_first_call\u001b[0;34m(clf, classes)\u001b[0m\n\u001b[1;32m    420\u001b[0m         \u001b[0;32melse\u001b[0m\u001b[0;34m:\u001b[0m\u001b[0;34m\u001b[0m\u001b[0;34m\u001b[0m\u001b[0m\n\u001b[1;32m    421\u001b[0m             \u001b[0;31m# This is the first call to partial_fit\u001b[0m\u001b[0;34m\u001b[0m\u001b[0;34m\u001b[0m\u001b[0m\n\u001b[0;32m--> 422\u001b[0;31m             \u001b[0mclf\u001b[0m\u001b[0;34m.\u001b[0m\u001b[0mclasses_\u001b[0m \u001b[0;34m=\u001b[0m \u001b[0munique_labels\u001b[0m\u001b[0;34m(\u001b[0m\u001b[0mclasses\u001b[0m\u001b[0;34m)\u001b[0m\u001b[0;34m\u001b[0m\u001b[0;34m\u001b[0m\u001b[0m\n\u001b[0m\u001b[1;32m    423\u001b[0m             \u001b[0;32mreturn\u001b[0m \u001b[0;32mTrue\u001b[0m\u001b[0;34m\u001b[0m\u001b[0;34m\u001b[0m\u001b[0m\n\u001b[1;32m    424\u001b[0m \u001b[0;34m\u001b[0m\u001b[0m\n",
            "\u001b[0;32m/usr/local/lib/python3.10/dist-packages/sklearn/utils/multiclass.py\u001b[0m in \u001b[0;36munique_labels\u001b[0;34m(*ys)\u001b[0m\n\u001b[1;32m    103\u001b[0m     \u001b[0m_unique_labels\u001b[0m \u001b[0;34m=\u001b[0m \u001b[0m_FN_UNIQUE_LABELS\u001b[0m\u001b[0;34m.\u001b[0m\u001b[0mget\u001b[0m\u001b[0;34m(\u001b[0m\u001b[0mlabel_type\u001b[0m\u001b[0;34m,\u001b[0m \u001b[0;32mNone\u001b[0m\u001b[0;34m)\u001b[0m\u001b[0;34m\u001b[0m\u001b[0;34m\u001b[0m\u001b[0m\n\u001b[1;32m    104\u001b[0m     \u001b[0;32mif\u001b[0m \u001b[0;32mnot\u001b[0m \u001b[0m_unique_labels\u001b[0m\u001b[0;34m:\u001b[0m\u001b[0;34m\u001b[0m\u001b[0;34m\u001b[0m\u001b[0m\n\u001b[0;32m--> 105\u001b[0;31m         \u001b[0;32mraise\u001b[0m \u001b[0mValueError\u001b[0m\u001b[0;34m(\u001b[0m\u001b[0;34m\"Unknown label type: %s\"\u001b[0m \u001b[0;34m%\u001b[0m \u001b[0mrepr\u001b[0m\u001b[0;34m(\u001b[0m\u001b[0mys\u001b[0m\u001b[0;34m)\u001b[0m\u001b[0;34m)\u001b[0m\u001b[0;34m\u001b[0m\u001b[0;34m\u001b[0m\u001b[0m\n\u001b[0m\u001b[1;32m    106\u001b[0m \u001b[0;34m\u001b[0m\u001b[0m\n\u001b[1;32m    107\u001b[0m     \u001b[0;32mif\u001b[0m \u001b[0mis_array_api_compliant\u001b[0m\u001b[0;34m:\u001b[0m\u001b[0;34m\u001b[0m\u001b[0;34m\u001b[0m\u001b[0m\n",
            "\u001b[0;31mValueError\u001b[0m: Unknown label type: (array([0.        , 0.00616081, 0.01477133, 0.01756325, 0.04351344,\n       0.09308778, 0.10574402, 0.10863712, 0.10867717, 0.11234866,\n       0.12146225, 0.12353169, 0.12587512, 0.13985885, 0.14103955,\n       0.14544717, 0.15029693, 0.15413767, 0.15829324, 0.16405955,\n       0.1799645 , 0.19527722, 0.19799393, 0.19982567, 0.20177863,\n       0.20464401, 0.20627704, 0.21137882, 0.22315255, 0.22844542,\n       0.25047189, 0.26643203, 0.27447907, 0.27889186, 0.28402808,\n       0.2863082 , 0.30530585, 0.36842196, 0.39335525, 0.40088345,\n       0.41810904, 0.42903063, 0.43324565, 0.43882509, 0.45593756,\n       0.46549997, 0.46817616, 0.4973192 , 0.52973484, 0.63211924,\n       0.72296404, 1.        ]),)"
          ]
        }
      ],
      "source": [
        "from sklearn.naive_bayes import GaussianNB\n",
        "\n",
        "gnb = GaussianNB()\n",
        "gnb.fit(X_train, y_train)\n",
        "print(\"Number of mislabeled points out of a total %d points : %d\" % (X_test.shape[0], (y_test != y_pred).sum()))\n",
        "\n",
        "from sklearn.metrics import mean_squared_error\n",
        "y_pred_gnb = gnb.predict(X_test)\n",
        "rmse_gnb = np.sqrt(mean_squared_error(y_test, y_pred_gnb))\n",
        "print(\"Root Mean Squared Error (RMSE):\", rmse_gnb)"
      ]
    },
    {
      "cell_type": "markdown",
      "metadata": {
        "id": "iBqz6LARMSYC"
      },
      "source": [
        "Decision Tree Regression"
      ]
    },
    {
      "cell_type": "code",
      "execution_count": 19,
      "metadata": {
        "colab": {
          "base_uri": "https://localhost:8080/"
        },
        "id": "GqORrdyuMR0j",
        "outputId": "07b25568-0560-4d61-8cd0-06706207d4ce"
      },
      "outputs": [
        {
          "output_type": "stream",
          "name": "stdout",
          "text": [
            "Root Mean Squared Error (RMSE): 0.2237508563387267\n"
          ]
        }
      ],
      "source": [
        "from sklearn import tree\n",
        "\n",
        "clf = tree.DecisionTreeRegressor()\n",
        "clf = clf.fit(X_train, y_train)\n",
        "\n",
        "from sklearn.metrics import mean_squared_error\n",
        "y_pred_tree = clf.predict(X_test)\n",
        "rmse_tree = np.sqrt(mean_squared_error(y_test, y_pred_tree))\n",
        "print(\"Root Mean Squared Error (RMSE):\", rmse_tree)"
      ]
    },
    {
      "cell_type": "markdown",
      "metadata": {
        "id": "6PXRVO16OSGi"
      },
      "source": [
        "Radius Neighbors Regressor"
      ]
    },
    {
      "cell_type": "code",
      "execution_count": null,
      "metadata": {
        "colab": {
          "base_uri": "https://localhost:8080/"
        },
        "id": "2e9PWGvsORo_",
        "outputId": "89b928d2-1c68-4c24-b836-a9e1fb5a4dde"
      },
      "outputs": [
        {
          "output_type": "stream",
          "name": "stdout",
          "text": [
            "Algorithm = auto\n",
            "Weight = uniform\n",
            "leafsize = 14\n",
            "p = 2\n",
            "Radius = 1\n",
            "RMSE = 0.1718701221497504\n"
          ]
        }
      ],
      "source": [
        "from sklearn.neighbors import RadiusNeighborsRegressor\n",
        "from sklearn.metrics import mean_squared_error\n",
        "\n",
        "#hyper-parameters\n",
        "neigh_algorithm=['auto', 'ball_tree', 'kd_tree', 'brute']\n",
        "neigh_weight=['uniform','distance']\n",
        "neigh_leafsize=np.arange(1, 101, 1).tolist()\n",
        "neigh_p=np.arange(1, 3, 1).tolist()\n",
        "neigh_radius=np.arange(1, 101, 1).tolist()\n",
        "neigh_rmse=[]\n",
        "neigh_hyper_algorithm=[]\n",
        "neigh_hyper_weight=[]\n",
        "neigh_hyper_leafsize=[]\n",
        "neigh_hyper_p=[]\n",
        "neigh_hyper_radius=[]\n",
        "\n",
        "for i in neigh_algorithm :\n",
        "  for p in neigh_weight :\n",
        "    for j in neigh_leafsize :\n",
        "      for k in neigh_p :\n",
        "        for u in neigh_radius :\n",
        "          neigh = RadiusNeighborsRegressor(algorithm=i,weights=p,leaf_size=j,p=k,radius=u)\n",
        "          neigh.fit(X_train, y_train)\n",
        "          y_pred_neigh = neigh.predict(X_test) #no changes\n",
        "          rmse_neigh = np.sqrt(mean_squared_error(y_test, y_pred_neigh)) #no changes\n",
        "          neigh_hyper_algorithm.append(i)\n",
        "          neigh_hyper_weight.append(p)\n",
        "          neigh_hyper_leafsize.append(j)\n",
        "          neigh_hyper_p.append(k)\n",
        "          neigh_hyper_radius.append(u)\n",
        "          neigh_rmse.append(rmse_neigh)\n",
        "\n",
        "\n",
        "\n",
        "\n",
        "sn=np.min(neigh_rmse)\n",
        "index=neigh_rmse.index(sn)\n",
        "con_algorithm=neigh_hyper_algorithm[index]\n",
        "con_weight=neigh_hyper_weight[index]\n",
        "con_leafsize=neigh_hyper_leafsize[index]\n",
        "con_p=neigh_hyper_p[index]\n",
        "con_radius=neigh_hyper_radius[index]\n",
        "\n",
        "print(\"Algorithm =\", con_algorithm  )\n",
        "print(\"Weight =\", con_weight )\n",
        "print(\"leafsize =\", con_leafsize  )\n",
        "print(\"p =\", con_p )\n",
        "print(\"Radius =\", con_radius)\n",
        "print(\"RMSE =\", sn )\n",
        "\n",
        "from sklearn.neighbors import RadiusNeighborsRegressor\n",
        " neigh = RadiusNeighborsRegressor(algorithm=i,weights=p,leaf_size=j,p=k,radius=u)\n",
        "          neigh.fit(X_train, y_train)\n",
        "          y_pred_neigh = neigh.predict(X_test) #no changes\n",
        "from sklearn.metrics import mean_squared_error\n",
        "y_pred_rnr = neigh.predict(X_test)\n",
        "rmse_rnr = np.sqrt(mean_squared_error(y_test, y_pred_rnr))\n",
        "print(\"Root Mean Squared Error (RMSE):\", rmse_rnr)"
      ]
    },
    {
      "cell_type": "code",
      "source": [
        "from sklearn.neighbors import RadiusNeighborsRegressor\n",
        "neigh = RadiusNeighborsRegressor()\n",
        "neigh.fit(X_train, y_train)\n",
        "y_pred_neigh = neigh.predict(X_test) #no changes\n",
        "from sklearn.metrics import mean_squared_error\n",
        "y_pred_rnr = neigh.predict(X_test)\n",
        "rmse_rnr = np.sqrt(mean_squared_error(y_test, y_pred_rnr))\n",
        "print(\"Root Mean Squared Error (RMSE):\", rmse_rnr)"
      ],
      "metadata": {
        "colab": {
          "base_uri": "https://localhost:8080/"
        },
        "id": "4o-UegwRY16v",
        "outputId": "e0bd7553-bf82-40e4-d944-d6d499bd92ab"
      },
      "execution_count": 38,
      "outputs": [
        {
          "output_type": "stream",
          "name": "stdout",
          "text": [
            "Root Mean Squared Error (RMSE): 0.08092392540789758\n"
          ]
        }
      ]
    },
    {
      "cell_type": "markdown",
      "metadata": {
        "id": "ZT8fb1gPQjrG"
      },
      "source": [
        "KNeighbours Regressor"
      ]
    },
    {
      "cell_type": "code",
      "execution_count": 20,
      "metadata": {
        "colab": {
          "base_uri": "https://localhost:8080/"
        },
        "id": "ppmnoYJ9Qi4s",
        "outputId": "cf93269b-765a-4ec0-ec7f-1bb12d50c0a1"
      },
      "outputs": [
        {
          "output_type": "stream",
          "name": "stdout",
          "text": [
            "Root Mean Squared Error (RMSE): 0.1637621255337587\n"
          ]
        }
      ],
      "source": [
        "\n",
        "from sklearn.neighbors import KNeighborsRegressor\n",
        "kneigh = KNeighborsRegressor(n_neighbors=2)\n",
        "kneigh.fit(X_train, y_train)\n",
        "\n",
        "from sklearn.metrics import mean_squared_error\n",
        "y_pred_knr = kneigh.predict(X_test)\n",
        "rmse_knr = np.sqrt(mean_squared_error(y_test, y_pred_knr))\n",
        "print(\"Root Mean Squared Error (RMSE):\", rmse_knr)"
      ]
    },
    {
      "cell_type": "markdown",
      "metadata": {
        "id": "zHy0lmXgX25O"
      },
      "source": [
        "Logistic Regression"
      ]
    },
    {
      "cell_type": "code",
      "execution_count": 21,
      "metadata": {
        "colab": {
          "base_uri": "https://localhost:8080/",
          "height": 373
        },
        "collapsed": true,
        "id": "unvqfsLlX2KV",
        "outputId": "e34cec9d-603f-44f2-8fb3-915965908a83"
      },
      "outputs": [
        {
          "output_type": "error",
          "ename": "ValueError",
          "evalue": "Unknown label type: continuous. Maybe you are trying to fit a classifier, which expects discrete classes on a regression target with continuous values.",
          "traceback": [
            "\u001b[0;31m---------------------------------------------------------------------------\u001b[0m",
            "\u001b[0;31mValueError\u001b[0m                                Traceback (most recent call last)",
            "\u001b[0;32m<ipython-input-21-9a406d819d4c>\u001b[0m in \u001b[0;36m<cell line: 6>\u001b[0;34m()\u001b[0m\n\u001b[1;32m      4\u001b[0m \u001b[0;34m\u001b[0m\u001b[0m\n\u001b[1;32m      5\u001b[0m \u001b[0;32mfrom\u001b[0m \u001b[0msklearn\u001b[0m\u001b[0;34m.\u001b[0m\u001b[0mlinear_model\u001b[0m \u001b[0;32mimport\u001b[0m \u001b[0mLogisticRegressionCV\u001b[0m\u001b[0;34m\u001b[0m\u001b[0;34m\u001b[0m\u001b[0m\n\u001b[0;32m----> 6\u001b[0;31m \u001b[0mlrcv\u001b[0m \u001b[0;34m=\u001b[0m \u001b[0mLogisticRegressionCV\u001b[0m\u001b[0;34m(\u001b[0m\u001b[0;34m)\u001b[0m\u001b[0;34m.\u001b[0m\u001b[0mfit\u001b[0m\u001b[0;34m(\u001b[0m\u001b[0mX_train\u001b[0m\u001b[0;34m,\u001b[0m \u001b[0my_train\u001b[0m\u001b[0;34m)\u001b[0m\u001b[0;34m\u001b[0m\u001b[0;34m\u001b[0m\u001b[0m\n\u001b[0m\u001b[1;32m      7\u001b[0m \u001b[0;34m\u001b[0m\u001b[0m\n\u001b[1;32m      8\u001b[0m \u001b[0;34m\u001b[0m\u001b[0m\n",
            "\u001b[0;32m/usr/local/lib/python3.10/dist-packages/sklearn/base.py\u001b[0m in \u001b[0;36mwrapper\u001b[0;34m(estimator, *args, **kwargs)\u001b[0m\n\u001b[1;32m   1150\u001b[0m                 )\n\u001b[1;32m   1151\u001b[0m             ):\n\u001b[0;32m-> 1152\u001b[0;31m                 \u001b[0;32mreturn\u001b[0m \u001b[0mfit_method\u001b[0m\u001b[0;34m(\u001b[0m\u001b[0mestimator\u001b[0m\u001b[0;34m,\u001b[0m \u001b[0;34m*\u001b[0m\u001b[0margs\u001b[0m\u001b[0;34m,\u001b[0m \u001b[0;34m**\u001b[0m\u001b[0mkwargs\u001b[0m\u001b[0;34m)\u001b[0m\u001b[0;34m\u001b[0m\u001b[0;34m\u001b[0m\u001b[0m\n\u001b[0m\u001b[1;32m   1153\u001b[0m \u001b[0;34m\u001b[0m\u001b[0m\n\u001b[1;32m   1154\u001b[0m         \u001b[0;32mreturn\u001b[0m \u001b[0mwrapper\u001b[0m\u001b[0;34m\u001b[0m\u001b[0;34m\u001b[0m\u001b[0m\n",
            "\u001b[0;32m/usr/local/lib/python3.10/dist-packages/sklearn/linear_model/_logistic.py\u001b[0m in \u001b[0;36mfit\u001b[0;34m(self, X, y, sample_weight)\u001b[0m\n\u001b[1;32m   1809\u001b[0m             \u001b[0maccept_large_sparse\u001b[0m\u001b[0;34m=\u001b[0m\u001b[0msolver\u001b[0m \u001b[0;32mnot\u001b[0m \u001b[0;32min\u001b[0m \u001b[0;34m[\u001b[0m\u001b[0;34m\"liblinear\"\u001b[0m\u001b[0;34m,\u001b[0m \u001b[0;34m\"sag\"\u001b[0m\u001b[0;34m,\u001b[0m \u001b[0;34m\"saga\"\u001b[0m\u001b[0;34m]\u001b[0m\u001b[0;34m,\u001b[0m\u001b[0;34m\u001b[0m\u001b[0;34m\u001b[0m\u001b[0m\n\u001b[1;32m   1810\u001b[0m         )\n\u001b[0;32m-> 1811\u001b[0;31m         \u001b[0mcheck_classification_targets\u001b[0m\u001b[0;34m(\u001b[0m\u001b[0my\u001b[0m\u001b[0;34m)\u001b[0m\u001b[0;34m\u001b[0m\u001b[0;34m\u001b[0m\u001b[0m\n\u001b[0m\u001b[1;32m   1812\u001b[0m \u001b[0;34m\u001b[0m\u001b[0m\n\u001b[1;32m   1813\u001b[0m         \u001b[0mclass_weight\u001b[0m \u001b[0;34m=\u001b[0m \u001b[0mself\u001b[0m\u001b[0;34m.\u001b[0m\u001b[0mclass_weight\u001b[0m\u001b[0;34m\u001b[0m\u001b[0;34m\u001b[0m\u001b[0m\n",
            "\u001b[0;32m/usr/local/lib/python3.10/dist-packages/sklearn/utils/multiclass.py\u001b[0m in \u001b[0;36mcheck_classification_targets\u001b[0;34m(y)\u001b[0m\n\u001b[1;32m    214\u001b[0m         \u001b[0;34m\"multilabel-sequences\"\u001b[0m\u001b[0;34m,\u001b[0m\u001b[0;34m\u001b[0m\u001b[0;34m\u001b[0m\u001b[0m\n\u001b[1;32m    215\u001b[0m     ]:\n\u001b[0;32m--> 216\u001b[0;31m         raise ValueError(\n\u001b[0m\u001b[1;32m    217\u001b[0m             \u001b[0;34mf\"Unknown label type: {y_type}. Maybe you are trying to fit a \"\u001b[0m\u001b[0;34m\u001b[0m\u001b[0;34m\u001b[0m\u001b[0m\n\u001b[1;32m    218\u001b[0m             \u001b[0;34m\"classifier, which expects discrete classes on a \"\u001b[0m\u001b[0;34m\u001b[0m\u001b[0;34m\u001b[0m\u001b[0m\n",
            "\u001b[0;31mValueError\u001b[0m: Unknown label type: continuous. Maybe you are trying to fit a classifier, which expects discrete classes on a regression target with continuous values."
          ]
        }
      ],
      "source": [
        "from sklearn.linear_model import LogisticRegression\n",
        "\n",
        "#lr = LogisticRegression().fit(X_train, y_train)\n",
        "\n",
        "from sklearn.linear_model import LogisticRegressionCV\n",
        "lrcv = LogisticRegressionCV().fit(X_train, y_train)\n",
        "\n",
        "\n",
        "from sklearn.metrics import mean_squared_error\n",
        "y_pred_lrcv = lr.predict(X_test)\n",
        "rmse_lrcv = np.sqrt(mean_squared_error(y_test, y_pred_lrcv))\n",
        "print(\"Root Mean Squared Error (RMSE):\", rmse_lrcv)"
      ]
    },
    {
      "cell_type": "markdown",
      "metadata": {
        "id": "sjY7_KmdyugY"
      },
      "source": [
        "Adaboost\n"
      ]
    },
    {
      "cell_type": "code",
      "execution_count": 22,
      "metadata": {
        "colab": {
          "base_uri": "https://localhost:8080/"
        },
        "id": "N-eF-VJAyuMO",
        "outputId": "c92fb8b3-f4a7-41a8-d803-30374da46b16"
      },
      "outputs": [
        {
          "output_type": "stream",
          "name": "stdout",
          "text": [
            "Root Mean Squared Error (RMSE): 0.2281044087591834\n"
          ]
        }
      ],
      "source": [
        "from sklearn.ensemble import AdaBoostRegressor\n",
        "from sklearn.datasets import make_regression\n",
        "\n",
        "ab = AdaBoostRegressor()\n",
        "ab.fit(X_train, y_train)\n",
        "\n",
        "from sklearn.metrics import mean_squared_error\n",
        "y_pred_ab = ab.predict(X_test)\n",
        "rmse_ab = np.sqrt(mean_squared_error(y_test, y_pred_ab))\n",
        "print(\"Root Mean Squared Error (RMSE):\", rmse_ab)"
      ]
    },
    {
      "cell_type": "markdown",
      "metadata": {
        "id": "PNzzyN_EywAT"
      },
      "source": [
        "Gradient Boost"
      ]
    },
    {
      "cell_type": "code",
      "execution_count": 23,
      "metadata": {
        "colab": {
          "base_uri": "https://localhost:8080/"
        },
        "id": "ywki57F_yvxu",
        "outputId": "8c3aae03-2ed4-4d5e-d42b-49dd2fd71697"
      },
      "outputs": [
        {
          "output_type": "stream",
          "name": "stdout",
          "text": [
            "Root Mean Squared Error (RMSE): 0.2041757952933491\n"
          ]
        }
      ],
      "source": [
        "from sklearn.datasets import make_regression\n",
        "from sklearn.ensemble import GradientBoostingRegressor\n",
        "\n",
        "gbr = GradientBoostingRegressor()\n",
        "gbr.fit(X_train, y_train)\n",
        "#get_ipython.predict(X_test[1:2])\n",
        "\n",
        "\n",
        "from sklearn.metrics import mean_squared_error\n",
        "y_pred_gbr = gbr.predict(X_test)\n",
        "rmse_gbr = np.sqrt(mean_squared_error(y_test, y_pred_gbr))\n",
        "print(\"Root Mean Squared Error (RMSE):\", rmse_gbr)"
      ]
    },
    {
      "cell_type": "markdown",
      "metadata": {
        "id": "w-Xp9SFd0geh"
      },
      "source": [
        "Least Angle Regression"
      ]
    },
    {
      "cell_type": "code",
      "execution_count": 24,
      "metadata": {
        "colab": {
          "base_uri": "https://localhost:8080/"
        },
        "id": "ZgpFW7FF0gTn",
        "outputId": "e34a581d-3ede-4f59-9ece-d5fe4de2cce8"
      },
      "outputs": [
        {
          "output_type": "stream",
          "name": "stdout",
          "text": [
            "Root Mean Squared Error (RMSE): 0.12086407977128903\n"
          ]
        }
      ],
      "source": [
        "from sklearn import linear_model\n",
        "linear_lar = linear_model.LassoLars()\n",
        "linear_lar.fit(X_train, y_train)\n",
        "\n",
        "from sklearn.metrics import mean_squared_error\n",
        "y_pred_linear_lar = linear_lar.predict(X_test)\n",
        "rmse_linear_lar = np.sqrt(mean_squared_error(y_test, y_pred_linear_lar))\n",
        "print(\"Root Mean Squared Error (RMSE):\", rmse_linear_lar)"
      ]
    },
    {
      "cell_type": "markdown",
      "metadata": {
        "id": "JpMoZZ4v1Cfc"
      },
      "source": [
        "Ordinary Least Squares"
      ]
    },
    {
      "cell_type": "code",
      "execution_count": 25,
      "metadata": {
        "colab": {
          "base_uri": "https://localhost:8080/"
        },
        "id": "3yKXqx2-1CVP",
        "outputId": "ff7b6f76-2b64-459f-d5cb-795cfc4d0b10"
      },
      "outputs": [
        {
          "output_type": "stream",
          "name": "stdout",
          "text": [
            "Root Mean Squared Error (RMSE): 0.08698418029843351\n"
          ]
        }
      ],
      "source": [
        "from sklearn import linear_model\n",
        "lin_ols = linear_model.LinearRegression()\n",
        "lin_ols.fit(X_train, y_train)\n",
        "\n",
        "from sklearn.metrics import mean_squared_error\n",
        "y_pred_lin_ols = lin_ols.predict(X_test)\n",
        "rmse_lin_ols = np.sqrt(mean_squared_error(y_test, y_pred_lin_ols))\n",
        "print(\"Root Mean Squared Error (RMSE):\", rmse_lin_ols)"
      ]
    },
    {
      "cell_type": "markdown",
      "metadata": {
        "id": "TZPWH_8U2e6b"
      },
      "source": [
        "Ridge Regression"
      ]
    },
    {
      "cell_type": "code",
      "execution_count": 26,
      "metadata": {
        "colab": {
          "base_uri": "https://localhost:8080/"
        },
        "id": "GKbsPWln2ewY",
        "outputId": "3857fa95-5f9a-40d7-850f-64d54f64b15b"
      },
      "outputs": [
        {
          "output_type": "stream",
          "name": "stdout",
          "text": [
            "Root Mean Squared Error (RMSE): 0.08279615367333695\n"
          ]
        }
      ],
      "source": [
        "from sklearn import linear_model\n",
        "lin_rr = linear_model.Ridge()\n",
        "lin_rr.fit(X_train, y_train)\n",
        "\n",
        "from sklearn.metrics import mean_squared_error\n",
        "y_pred_lin_rr = lin_rr.predict(X_test)\n",
        "rmse_lin_rr = np.sqrt(mean_squared_error(y_test, y_pred_lin_rr))\n",
        "print(\"Root Mean Squared Error (RMSE):\", rmse_lin_rr)"
      ]
    },
    {
      "cell_type": "markdown",
      "metadata": {
        "id": "FqxVAfkK24gn"
      },
      "source": [
        "Bayesian Ridge Regression"
      ]
    },
    {
      "cell_type": "code",
      "execution_count": 27,
      "metadata": {
        "colab": {
          "base_uri": "https://localhost:8080/"
        },
        "id": "0EGHjc-G24Wy",
        "outputId": "83f81947-2d99-4e4c-80ba-29d3da931346"
      },
      "outputs": [
        {
          "output_type": "stream",
          "name": "stdout",
          "text": [
            "Root Mean Squared Error (RMSE): 0.08511209478524501\n"
          ]
        }
      ],
      "source": [
        "from sklearn import linear_model\n",
        "lin_br = linear_model.BayesianRidge()\n",
        "lin_br.fit(X_train, y_train)\n",
        "\n",
        "from sklearn.metrics import mean_squared_error\n",
        "y_pred_lin_br = lin_br.predict(X_test)\n",
        "rmse_lin_br = np.sqrt(mean_squared_error(y_test, y_pred_lin_br))\n",
        "print(\"Root Mean Squared Error (RMSE):\", rmse_lin_br)"
      ]
    },
    {
      "cell_type": "markdown",
      "metadata": {
        "id": "Qc64q2i_3TBY"
      },
      "source": [
        "Quantile Regression"
      ]
    },
    {
      "cell_type": "code",
      "execution_count": null,
      "metadata": {
        "colab": {
          "base_uri": "https://localhost:8080/",
          "height": 211
        },
        "collapsed": true,
        "id": "UIxF9NNL3S5P",
        "outputId": "e47e7e73-41e5-4ae6-bd41-25c86d4d0ad0"
      },
      "outputs": [
        {
          "output_type": "error",
          "ename": "AttributeError",
          "evalue": "'PolynomialFeatures' object has no attribute 'predict'",
          "traceback": [
            "\u001b[0;31m---------------------------------------------------------------------------\u001b[0m",
            "\u001b[0;31mAttributeError\u001b[0m                            Traceback (most recent call last)",
            "\u001b[0;32m<ipython-input-56-802b604d4b38>\u001b[0m in \u001b[0;36m<cell line: 7>\u001b[0;34m()\u001b[0m\n\u001b[1;32m      5\u001b[0m \u001b[0;34m\u001b[0m\u001b[0m\n\u001b[1;32m      6\u001b[0m \u001b[0;32mfrom\u001b[0m \u001b[0msklearn\u001b[0m\u001b[0;34m.\u001b[0m\u001b[0mmetrics\u001b[0m \u001b[0;32mimport\u001b[0m \u001b[0mmean_squared_error\u001b[0m\u001b[0;34m\u001b[0m\u001b[0;34m\u001b[0m\u001b[0m\n\u001b[0;32m----> 7\u001b[0;31m \u001b[0my_pred_lin_QR\u001b[0m \u001b[0;34m=\u001b[0m \u001b[0mlin_QR\u001b[0m\u001b[0;34m.\u001b[0m\u001b[0mpredict\u001b[0m\u001b[0;34m(\u001b[0m\u001b[0mX_test\u001b[0m\u001b[0;34m)\u001b[0m\u001b[0;34m\u001b[0m\u001b[0;34m\u001b[0m\u001b[0m\n\u001b[0m\u001b[1;32m      8\u001b[0m \u001b[0mrmse_lin_QR\u001b[0m \u001b[0;34m=\u001b[0m \u001b[0mnp\u001b[0m\u001b[0;34m.\u001b[0m\u001b[0msqrt\u001b[0m\u001b[0;34m(\u001b[0m\u001b[0mmean_squared_error\u001b[0m\u001b[0;34m(\u001b[0m\u001b[0my_test\u001b[0m\u001b[0;34m,\u001b[0m \u001b[0my_pred_lin_QR\u001b[0m\u001b[0;34m)\u001b[0m\u001b[0;34m)\u001b[0m\u001b[0;34m\u001b[0m\u001b[0;34m\u001b[0m\u001b[0m\n\u001b[1;32m      9\u001b[0m \u001b[0mprint\u001b[0m\u001b[0;34m(\u001b[0m\u001b[0;34m\"Root Mean Squared Error (RMSE):\"\u001b[0m\u001b[0;34m,\u001b[0m \u001b[0mrmse_lin_QR\u001b[0m\u001b[0;34m)\u001b[0m\u001b[0;34m\u001b[0m\u001b[0;34m\u001b[0m\u001b[0m\n",
            "\u001b[0;31mAttributeError\u001b[0m: 'PolynomialFeatures' object has no attribute 'predict'"
          ]
        }
      ],
      "source": [
        "from sklearn.preprocessing import PolynomialFeatures\n",
        "\n",
        "lin_QR = PolynomialFeatures()\n",
        "lin_QR.fit_transform(X_train,y_train)\n",
        "\n",
        "from sklearn.metrics import mean_squared_error\n",
        "y_pred_lin_QR = lin_QR.predict(X_test)\n",
        "rmse_lin_QR = np.sqrt(mean_squared_error(y_test, y_pred_lin_QR))\n",
        "print(\"Root Mean Squared Error (RMSE):\", rmse_lin_QR)"
      ]
    },
    {
      "cell_type": "markdown",
      "metadata": {
        "id": "CsSffm764sKh"
      },
      "source": [
        "LASSO"
      ]
    },
    {
      "cell_type": "code",
      "execution_count": 28,
      "metadata": {
        "colab": {
          "base_uri": "https://localhost:8080/"
        },
        "id": "kj1eNTEP4r-X",
        "outputId": "a804ddbd-0937-4697-b6f6-a461e441676a"
      },
      "outputs": [
        {
          "output_type": "stream",
          "name": "stdout",
          "text": [
            "Root Mean Squared Error (RMSE): 0.12086407977128903\n"
          ]
        }
      ],
      "source": [
        "from sklearn import linear_model\n",
        "lin_lass = linear_model.Lasso()\n",
        "lin_lass.fit(X_train, y_train)\n",
        "\n",
        "from sklearn.metrics import mean_squared_error\n",
        "y_pred_lin_lass = lin_lass.predict(X_test)\n",
        "rmse_lin_lass = np.sqrt(mean_squared_error(y_test, y_pred_lin_lass))\n",
        "print(\"Root Mean Squared Error (RMSE):\", rmse_lin_lass)"
      ]
    },
    {
      "cell_type": "markdown",
      "metadata": {
        "id": "85wSlG6d5f6W"
      },
      "source": [
        "Passive Aggressive"
      ]
    },
    {
      "cell_type": "code",
      "execution_count": 29,
      "metadata": {
        "colab": {
          "base_uri": "https://localhost:8080/"
        },
        "id": "TbmoSsa_5fye",
        "outputId": "dd73f447-24b4-41e8-9edd-42bc061abb93"
      },
      "outputs": [
        {
          "output_type": "stream",
          "name": "stdout",
          "text": [
            "Root Mean Squared Error (RMSE): 0.25850580517434696\n"
          ]
        }
      ],
      "source": [
        "from sklearn.linear_model import PassiveAggressiveRegressor\n",
        "\n",
        "lin_pa = PassiveAggressiveRegressor()\n",
        "lin_pa.fit(X_train, y_train)\n",
        "\n",
        "from sklearn.metrics import mean_squared_error\n",
        "y_pred_lin_pa = lin_pa.predict(X_test)\n",
        "rmse_lin_pa = np.sqrt(mean_squared_error(y_test, y_pred_lin_pa))\n",
        "print(\"Root Mean Squared Error (RMSE):\", rmse_lin_pa)"
      ]
    },
    {
      "cell_type": "markdown",
      "metadata": {
        "id": "Kg1IkZQuC-T9"
      },
      "source": [
        "Random Forest Regressor"
      ]
    },
    {
      "cell_type": "code",
      "execution_count": 30,
      "metadata": {
        "colab": {
          "base_uri": "https://localhost:8080/"
        },
        "id": "OctN466zC998",
        "outputId": "2a728361-5e00-48a9-e5e9-4c2fcafd235a"
      },
      "outputs": [
        {
          "output_type": "stream",
          "name": "stdout",
          "text": [
            "Root Mean Squared Error (RMSE): 0.13495755396734918\n"
          ]
        }
      ],
      "source": [
        "from sklearn.ensemble import RandomForestRegressor\n",
        "\n",
        "rand_tree = RandomForestRegressor()\n",
        "rand_tree.fit(X_train, y_train)\n",
        "\n",
        "\n",
        "from sklearn.metrics import mean_squared_error\n",
        "y_pred_rand_tree = rand_tree.predict(X_test)\n",
        "rmse_rand_tree = np.sqrt(mean_squared_error(y_test, y_pred_rand_tree))\n",
        "print(\"Root Mean Squared Error (RMSE):\", rmse_rand_tree)"
      ]
    },
    {
      "cell_type": "code",
      "execution_count": null,
      "metadata": {
        "colab": {
          "base_uri": "https://localhost:8080/"
        },
        "id": "zpuzcSoMxiaa",
        "outputId": "3587428f-6221-48ca-ab28-2498942de817"
      },
      "outputs": [
        {
          "name": "stdout",
          "output_type": "stream",
          "text": [
            "Root Mean Squared Error (RMSE): 0.18809109923020362\n"
          ]
        }
      ],
      "source": [
        "from sklearn.metrics import mean_squared_error\n",
        "y_pred_svr = svr_model_rbf.predict(X_test)\n",
        "rmse = np.sqrt(mean_squared_error(y_test, y_pred_svr))\n",
        "print(\"Root Mean Squared Error (RMSE):\", rmse)"
      ]
    },
    {
      "cell_type": "code",
      "execution_count": null,
      "metadata": {
        "id": "P5T4mIFY4cUe"
      },
      "outputs": [],
      "source": []
    }
  ],
  "metadata": {
    "colab": {
      "provenance": [],
      "include_colab_link": true
    },
    "kernelspec": {
      "display_name": "Python 3",
      "name": "python3"
    },
    "language_info": {
      "name": "python"
    }
  },
  "nbformat": 4,
  "nbformat_minor": 0
}